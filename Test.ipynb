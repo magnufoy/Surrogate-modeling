{
 "cells": [
  {
   "cell_type": "code",
   "execution_count": 1,
   "metadata": {},
   "outputs": [],
   "source": [
    "import numpy as np\n",
    "from smt.surrogate_models import KRG, RBF\n",
    "import pandas as pd\n",
    "from sklearn.model_selection import train_test_split\n",
    "from sklearn.metrics import mean_squared_error\n",
    "import matplotlib.pyplot as plt\n",
    "from sklearn.preprocessing import MinMaxScaler\n",
    "import tensorflow as tf"
   ]
  },
  {
   "cell_type": "code",
   "execution_count": 2,
   "metadata": {},
   "outputs": [
    {
     "name": "stdout",
     "output_type": "stream",
     "text": [
      "   Education  Experience  Location  Job_Title  Age  Gender         Salary\n",
      "0          0           8         2          3   63       1   84620.053665\n",
      "1          3          11         1          2   59       1  142591.255894\n",
      "2          1          28         1          3   61       0   97800.255404\n",
      "3          0          29         0          2   45       1   96834.671282\n",
      "4          3          25         2          1   26       0  132157.786175\n"
     ]
    }
   ],
   "source": [
    "df = pd.read_csv('salary_prediction_data.csv')\n",
    "\n",
    "df['Education'] = df['Education'].map({'PhD': 3, 'Master': 2, 'Bachelor': 1, 'High School': 0})\n",
    "df['Location'] = df['Location'].map({'Urban': 2, 'Suburban': 1, 'Rural': 0})\n",
    "df['Job_Title'] = df['Job_Title'].map({'Manager': 3, 'Director': 2, 'Analyst': 1, 'Engineer': 0})\n",
    "df['Gender'] = df['Gender'].map({'Male': 1, 'Female': 0}) \n",
    "\n",
    "print(df.head())"
   ]
  },
  {
   "cell_type": "code",
   "execution_count": 3,
   "metadata": {},
   "outputs": [],
   "source": [
    "X = df[['Education','Experience','Location','Job_Title','Age','Gender']].values\n",
    "Y = df[['Salary']].values\n",
    "\n",
    "X_train, X_val, Y_train, Y_val = train_test_split(X, Y, test_size=0.2, random_state=42)\n",
    "\n",
    "scaler = MinMaxScaler()\n",
    "X_train = scaler.fit_transform(X_train)\n",
    "X_val = scaler.transform(X_val)"
   ]
  },
  {
   "cell_type": "code",
   "execution_count": 4,
   "metadata": {},
   "outputs": [],
   "source": [
    "X_train = X_train.astype(float)\n",
    "Y_train = Y_train.astype(float)\n",
    "X_val = X_val.astype(float)\n",
    "Y_val = Y_val.astype(float)"
   ]
  },
  {
   "cell_type": "code",
   "execution_count": 5,
   "metadata": {},
   "outputs": [
    {
     "name": "stderr",
     "output_type": "stream",
     "text": [
      "c:\\Users\\ben00\\AppData\\Local\\Programs\\Python\\Python311\\Lib\\site-packages\\sklearn\\utils\\validation.py:1183: DataConversionWarning: A column-vector y was passed when a 1d array was expected. Please change the shape of y to (n_samples, ), for example using ravel().\n",
      "  y = column_or_1d(y, warn=True)\n"
     ]
    },
    {
     "data": {
      "text/html": [
       "<style>#sk-container-id-1 {color: black;}#sk-container-id-1 pre{padding: 0;}#sk-container-id-1 div.sk-toggleable {background-color: white;}#sk-container-id-1 label.sk-toggleable__label {cursor: pointer;display: block;width: 100%;margin-bottom: 0;padding: 0.3em;box-sizing: border-box;text-align: center;}#sk-container-id-1 label.sk-toggleable__label-arrow:before {content: \"▸\";float: left;margin-right: 0.25em;color: #696969;}#sk-container-id-1 label.sk-toggleable__label-arrow:hover:before {color: black;}#sk-container-id-1 div.sk-estimator:hover label.sk-toggleable__label-arrow:before {color: black;}#sk-container-id-1 div.sk-toggleable__content {max-height: 0;max-width: 0;overflow: hidden;text-align: left;background-color: #f0f8ff;}#sk-container-id-1 div.sk-toggleable__content pre {margin: 0.2em;color: black;border-radius: 0.25em;background-color: #f0f8ff;}#sk-container-id-1 input.sk-toggleable__control:checked~div.sk-toggleable__content {max-height: 200px;max-width: 100%;overflow: auto;}#sk-container-id-1 input.sk-toggleable__control:checked~label.sk-toggleable__label-arrow:before {content: \"▾\";}#sk-container-id-1 div.sk-estimator input.sk-toggleable__control:checked~label.sk-toggleable__label {background-color: #d4ebff;}#sk-container-id-1 div.sk-label input.sk-toggleable__control:checked~label.sk-toggleable__label {background-color: #d4ebff;}#sk-container-id-1 input.sk-hidden--visually {border: 0;clip: rect(1px 1px 1px 1px);clip: rect(1px, 1px, 1px, 1px);height: 1px;margin: -1px;overflow: hidden;padding: 0;position: absolute;width: 1px;}#sk-container-id-1 div.sk-estimator {font-family: monospace;background-color: #f0f8ff;border: 1px dotted black;border-radius: 0.25em;box-sizing: border-box;margin-bottom: 0.5em;}#sk-container-id-1 div.sk-estimator:hover {background-color: #d4ebff;}#sk-container-id-1 div.sk-parallel-item::after {content: \"\";width: 100%;border-bottom: 1px solid gray;flex-grow: 1;}#sk-container-id-1 div.sk-label:hover label.sk-toggleable__label {background-color: #d4ebff;}#sk-container-id-1 div.sk-serial::before {content: \"\";position: absolute;border-left: 1px solid gray;box-sizing: border-box;top: 0;bottom: 0;left: 50%;z-index: 0;}#sk-container-id-1 div.sk-serial {display: flex;flex-direction: column;align-items: center;background-color: white;padding-right: 0.2em;padding-left: 0.2em;position: relative;}#sk-container-id-1 div.sk-item {position: relative;z-index: 1;}#sk-container-id-1 div.sk-parallel {display: flex;align-items: stretch;justify-content: center;background-color: white;position: relative;}#sk-container-id-1 div.sk-item::before, #sk-container-id-1 div.sk-parallel-item::before {content: \"\";position: absolute;border-left: 1px solid gray;box-sizing: border-box;top: 0;bottom: 0;left: 50%;z-index: -1;}#sk-container-id-1 div.sk-parallel-item {display: flex;flex-direction: column;z-index: 1;position: relative;background-color: white;}#sk-container-id-1 div.sk-parallel-item:first-child::after {align-self: flex-end;width: 50%;}#sk-container-id-1 div.sk-parallel-item:last-child::after {align-self: flex-start;width: 50%;}#sk-container-id-1 div.sk-parallel-item:only-child::after {width: 0;}#sk-container-id-1 div.sk-dashed-wrapped {border: 1px dashed gray;margin: 0 0.4em 0.5em 0.4em;box-sizing: border-box;padding-bottom: 0.4em;background-color: white;}#sk-container-id-1 div.sk-label label {font-family: monospace;font-weight: bold;display: inline-block;line-height: 1.2em;}#sk-container-id-1 div.sk-label-container {text-align: center;}#sk-container-id-1 div.sk-container {/* jupyter's `normalize.less` sets `[hidden] { display: none; }` but bootstrap.min.css set `[hidden] { display: none !important; }` so we also need the `!important` here to be able to override the default hidden behavior on the sphinx rendered scikit-learn.org. See: https://github.com/scikit-learn/scikit-learn/issues/21755 */display: inline-block !important;position: relative;}#sk-container-id-1 div.sk-text-repr-fallback {display: none;}</style><div id=\"sk-container-id-1\" class=\"sk-top-container\"><div class=\"sk-text-repr-fallback\"><pre>SVR(C=100000000, gamma=0.001)</pre><b>In a Jupyter environment, please rerun this cell to show the HTML representation or trust the notebook. <br />On GitHub, the HTML representation is unable to render, please try loading this page with nbviewer.org.</b></div><div class=\"sk-container\" hidden><div class=\"sk-item\"><div class=\"sk-estimator sk-toggleable\"><input class=\"sk-toggleable__control sk-hidden--visually\" id=\"sk-estimator-id-1\" type=\"checkbox\" checked><label for=\"sk-estimator-id-1\" class=\"sk-toggleable__label sk-toggleable__label-arrow\">SVR</label><div class=\"sk-toggleable__content\"><pre>SVR(C=100000000, gamma=0.001)</pre></div></div></div></div></div>"
      ],
      "text/plain": [
       "SVR(C=100000000, gamma=0.001)"
      ]
     },
     "execution_count": 5,
     "metadata": {},
     "output_type": "execute_result"
    }
   ],
   "source": [
    "from sklearn.svm import SVR\n",
    "SVR_model =SVR(kernel='rbf',C=100000000,gamma= 0.001)\n",
    "SVR_model.fit(X_train,Y_train)\n"
   ]
  },
  {
   "cell_type": "code",
   "execution_count": 6,
   "metadata": {},
   "outputs": [
    {
     "name": "stdout",
     "output_type": "stream",
     "text": [
      "___________________________________________________________________________\n",
      "   \n",
      "                                  Kriging\n",
      "___________________________________________________________________________\n",
      "   \n",
      " Problem size\n",
      "   \n",
      "      # training points.        : 800\n",
      "   \n",
      "___________________________________________________________________________\n",
      "   \n",
      " Training\n",
      "   \n",
      "   Training ...\n"
     ]
    },
    {
     "name": "stderr",
     "output_type": "stream",
     "text": [
      "c:\\Users\\ben00\\AppData\\Local\\Programs\\Python\\Python311\\Lib\\site-packages\\smt\\surrogate_models\\krg_based.py:462: UserWarning: Warning: multiple x input features have the same value (at least same row twice).\n",
      "  warnings.warn(\n"
     ]
    },
    {
     "name": "stdout",
     "output_type": "stream",
     "text": [
      "   Training - done. Time (sec): 49.0543370\n"
     ]
    }
   ],
   "source": [
    "KRG_model = KRG(theta0=[1e-2], corr='squar_exp')\n",
    "KRG_model.set_training_values(X_train, Y_train)\n",
    "KRG_model.train()"
   ]
  },
  {
   "cell_type": "code",
   "execution_count": 34,
   "metadata": {},
   "outputs": [
    {
     "name": "stdout",
     "output_type": "stream",
     "text": [
      "___________________________________________________________________________\n",
      "   \n",
      "                                    RBF\n",
      "___________________________________________________________________________\n",
      "   \n",
      " Problem size\n",
      "   \n",
      "      # training points.        : 800\n",
      "   \n",
      "___________________________________________________________________________\n",
      "   \n",
      " Training\n",
      "   \n",
      "   Training ...\n",
      "      Initializing linear solver ...\n",
      "         Performing LU fact. (800 x 800 mtx) ...\n",
      "         Performing LU fact. (800 x 800 mtx) - done. Time (sec):  0.0149589\n",
      "      Initializing linear solver - done. Time (sec):  0.0149589\n",
      "      Solving linear system (col. 0) ...\n",
      "         Back solving (800 x 800 mtx) ...\n",
      "         Back solving (800 x 800 mtx) - done. Time (sec):  0.0010052\n",
      "      Solving linear system (col. 0) - done. Time (sec):  0.0010052\n",
      "   Training - done. Time (sec):  0.3221383\n"
     ]
    }
   ],
   "source": [
    "RBF_model = RBF(d0=500)\n",
    "RBF_model.set_training_values(X_train, Y_train)\n",
    "RBF_model.train()"
   ]
  },
  {
   "cell_type": "code",
   "execution_count": 8,
   "metadata": {},
   "outputs": [
    {
     "name": "stdout",
     "output_type": "stream",
     "text": [
      "Epoch 1/500\n",
      "25/25 [==============================] - 2s 20ms/step - loss: 11882040320.0000 - val_loss: 12169778176.0000\n",
      "Epoch 2/500\n",
      "25/25 [==============================] - 0s 19ms/step - loss: 11869218816.0000 - val_loss: 12126154752.0000\n",
      "Epoch 3/500\n",
      "25/25 [==============================] - 0s 6ms/step - loss: 11669771264.0000 - val_loss: 11599502336.0000\n",
      "Epoch 4/500\n",
      "25/25 [==============================] - 0s 8ms/step - loss: 10182317056.0000 - val_loss: 8529744384.0000\n",
      "Epoch 5/500\n",
      "25/25 [==============================] - 0s 6ms/step - loss: 4933448704.0000 - val_loss: 1493677824.0000\n",
      "Epoch 6/500\n",
      "25/25 [==============================] - 0s 7ms/step - loss: 709078144.0000 - val_loss: 497360352.0000\n",
      "Epoch 7/500\n",
      "25/25 [==============================] - 0s 7ms/step - loss: 510969600.0000 - val_loss: 472519360.0000\n",
      "Epoch 8/500\n",
      "25/25 [==============================] - 0s 6ms/step - loss: 451057472.0000 - val_loss: 414262464.0000\n",
      "Epoch 9/500\n",
      "25/25 [==============================] - 0s 12ms/step - loss: 408324256.0000 - val_loss: 388507328.0000\n",
      "Epoch 10/500\n",
      "25/25 [==============================] - 0s 7ms/step - loss: 367068032.0000 - val_loss: 350556928.0000\n",
      "Epoch 11/500\n",
      "25/25 [==============================] - 0s 6ms/step - loss: 331717760.0000 - val_loss: 323617664.0000\n",
      "Epoch 12/500\n",
      "25/25 [==============================] - 0s 6ms/step - loss: 299851616.0000 - val_loss: 301428384.0000\n",
      "Epoch 13/500\n",
      "25/25 [==============================] - 0s 6ms/step - loss: 273530624.0000 - val_loss: 277831872.0000\n",
      "Epoch 14/500\n",
      "25/25 [==============================] - 0s 6ms/step - loss: 248832816.0000 - val_loss: 254581328.0000\n",
      "Epoch 15/500\n",
      "25/25 [==============================] - 0s 6ms/step - loss: 229355536.0000 - val_loss: 249421472.0000\n",
      "Epoch 16/500\n",
      "25/25 [==============================] - 0s 6ms/step - loss: 212515104.0000 - val_loss: 229004144.0000\n",
      "Epoch 17/500\n",
      "25/25 [==============================] - 0s 8ms/step - loss: 200583952.0000 - val_loss: 220351808.0000\n",
      "Epoch 18/500\n",
      "25/25 [==============================] - 0s 8ms/step - loss: 189421792.0000 - val_loss: 214115120.0000\n",
      "Epoch 19/500\n",
      "25/25 [==============================] - 0s 8ms/step - loss: 181758080.0000 - val_loss: 205869504.0000\n",
      "Epoch 20/500\n",
      "25/25 [==============================] - 0s 6ms/step - loss: 176259424.0000 - val_loss: 201860544.0000\n",
      "Epoch 21/500\n",
      "25/25 [==============================] - 0s 6ms/step - loss: 171523664.0000 - val_loss: 200799248.0000\n",
      "Epoch 22/500\n",
      "25/25 [==============================] - 0s 6ms/step - loss: 167690592.0000 - val_loss: 193362704.0000\n",
      "Epoch 23/500\n",
      "25/25 [==============================] - 0s 5ms/step - loss: 166746816.0000 - val_loss: 189599968.0000\n",
      "Epoch 24/500\n",
      "25/25 [==============================] - 0s 5ms/step - loss: 163749824.0000 - val_loss: 188930688.0000\n",
      "Epoch 25/500\n",
      "25/25 [==============================] - 0s 5ms/step - loss: 161904192.0000 - val_loss: 193759680.0000\n",
      "Epoch 26/500\n",
      "25/25 [==============================] - 0s 5ms/step - loss: 161009088.0000 - val_loss: 184118576.0000\n",
      "Epoch 27/500\n",
      "25/25 [==============================] - 0s 6ms/step - loss: 160747328.0000 - val_loss: 183302640.0000\n",
      "Epoch 28/500\n",
      "25/25 [==============================] - 0s 6ms/step - loss: 159266032.0000 - val_loss: 183808592.0000\n",
      "Epoch 29/500\n",
      "25/25 [==============================] - 0s 5ms/step - loss: 158664944.0000 - val_loss: 182742288.0000\n",
      "Epoch 30/500\n",
      "25/25 [==============================] - 0s 6ms/step - loss: 158792432.0000 - val_loss: 178976784.0000\n",
      "Epoch 31/500\n",
      "25/25 [==============================] - 0s 5ms/step - loss: 158027456.0000 - val_loss: 177550320.0000\n",
      "Epoch 32/500\n",
      "25/25 [==============================] - 0s 6ms/step - loss: 158772464.0000 - val_loss: 176914592.0000\n",
      "Epoch 33/500\n",
      "25/25 [==============================] - 0s 5ms/step - loss: 157063616.0000 - val_loss: 174467744.0000\n",
      "Epoch 34/500\n",
      "25/25 [==============================] - 0s 5ms/step - loss: 157838864.0000 - val_loss: 176338384.0000\n",
      "Epoch 35/500\n",
      "25/25 [==============================] - 0s 6ms/step - loss: 156784272.0000 - val_loss: 174067392.0000\n",
      "Epoch 36/500\n",
      "25/25 [==============================] - 0s 5ms/step - loss: 156255952.0000 - val_loss: 173819376.0000\n",
      "Epoch 37/500\n",
      "25/25 [==============================] - 0s 5ms/step - loss: 156504480.0000 - val_loss: 171503120.0000\n",
      "Epoch 38/500\n",
      "25/25 [==============================] - 0s 5ms/step - loss: 157333776.0000 - val_loss: 170873488.0000\n",
      "Epoch 39/500\n",
      "25/25 [==============================] - 0s 5ms/step - loss: 157240000.0000 - val_loss: 170747968.0000\n",
      "Epoch 40/500\n",
      "25/25 [==============================] - 0s 5ms/step - loss: 155295936.0000 - val_loss: 174201808.0000\n",
      "Epoch 41/500\n",
      "25/25 [==============================] - 0s 5ms/step - loss: 154967424.0000 - val_loss: 169569104.0000\n",
      "Epoch 42/500\n",
      "25/25 [==============================] - 0s 5ms/step - loss: 156307232.0000 - val_loss: 168952320.0000\n",
      "Epoch 43/500\n",
      "25/25 [==============================] - 0s 5ms/step - loss: 154629568.0000 - val_loss: 172040704.0000\n",
      "Epoch 44/500\n",
      "25/25 [==============================] - 0s 5ms/step - loss: 155672880.0000 - val_loss: 172233008.0000\n",
      "Epoch 45/500\n",
      "25/25 [==============================] - 0s 5ms/step - loss: 154618016.0000 - val_loss: 173471216.0000\n",
      "Epoch 46/500\n",
      "25/25 [==============================] - 0s 5ms/step - loss: 155361696.0000 - val_loss: 169904032.0000\n",
      "Epoch 47/500\n",
      "25/25 [==============================] - 0s 5ms/step - loss: 157368144.0000 - val_loss: 180998944.0000\n",
      "Epoch 48/500\n",
      "25/25 [==============================] - 0s 5ms/step - loss: 154835776.0000 - val_loss: 172769488.0000\n",
      "Epoch 49/500\n",
      "25/25 [==============================] - 0s 5ms/step - loss: 154976720.0000 - val_loss: 167211472.0000\n",
      "Epoch 50/500\n",
      "25/25 [==============================] - 0s 5ms/step - loss: 153910240.0000 - val_loss: 172097856.0000\n",
      "Epoch 51/500\n",
      "25/25 [==============================] - 0s 5ms/step - loss: 153801008.0000 - val_loss: 165661344.0000\n",
      "Epoch 52/500\n",
      "25/25 [==============================] - 0s 5ms/step - loss: 155322784.0000 - val_loss: 169649824.0000\n",
      "Epoch 53/500\n",
      "25/25 [==============================] - 0s 5ms/step - loss: 154745952.0000 - val_loss: 169512272.0000\n",
      "Epoch 54/500\n",
      "25/25 [==============================] - 0s 5ms/step - loss: 153804240.0000 - val_loss: 165153568.0000\n",
      "Epoch 55/500\n",
      "25/25 [==============================] - 0s 5ms/step - loss: 154843696.0000 - val_loss: 173575088.0000\n",
      "Epoch 56/500\n",
      "25/25 [==============================] - 0s 5ms/step - loss: 154236048.0000 - val_loss: 169481264.0000\n",
      "Epoch 57/500\n",
      "25/25 [==============================] - 0s 5ms/step - loss: 154591632.0000 - val_loss: 172771424.0000\n",
      "Epoch 58/500\n",
      "25/25 [==============================] - 0s 5ms/step - loss: 155233584.0000 - val_loss: 175198960.0000\n",
      "Epoch 59/500\n",
      "25/25 [==============================] - 0s 5ms/step - loss: 155898928.0000 - val_loss: 171645472.0000\n",
      "Epoch 60/500\n",
      "25/25 [==============================] - 0s 5ms/step - loss: 155321216.0000 - val_loss: 177465632.0000\n",
      "Epoch 61/500\n",
      "25/25 [==============================] - 0s 5ms/step - loss: 156880976.0000 - val_loss: 172633504.0000\n",
      "Epoch 62/500\n",
      "25/25 [==============================] - 0s 5ms/step - loss: 155943456.0000 - val_loss: 173886464.0000\n",
      "Epoch 63/500\n",
      "25/25 [==============================] - 0s 5ms/step - loss: 156016192.0000 - val_loss: 174469936.0000\n",
      "Epoch 64/500\n",
      "25/25 [==============================] - 0s 5ms/step - loss: 158900464.0000 - val_loss: 164409328.0000\n",
      "Epoch 65/500\n",
      "25/25 [==============================] - 0s 5ms/step - loss: 156729392.0000 - val_loss: 165271904.0000\n",
      "Epoch 66/500\n",
      "25/25 [==============================] - 0s 5ms/step - loss: 154889648.0000 - val_loss: 163855536.0000\n",
      "Epoch 67/500\n",
      "25/25 [==============================] - 0s 5ms/step - loss: 154140304.0000 - val_loss: 166593776.0000\n",
      "Epoch 68/500\n",
      "25/25 [==============================] - 0s 10ms/step - loss: 154716064.0000 - val_loss: 166166400.0000\n",
      "Epoch 69/500\n",
      "25/25 [==============================] - 0s 5ms/step - loss: 154803296.0000 - val_loss: 163650912.0000\n",
      "Epoch 70/500\n",
      "25/25 [==============================] - 0s 5ms/step - loss: 153863440.0000 - val_loss: 163334800.0000\n",
      "Epoch 71/500\n",
      "25/25 [==============================] - 0s 5ms/step - loss: 154392352.0000 - val_loss: 166553808.0000\n",
      "Epoch 72/500\n",
      "25/25 [==============================] - 0s 5ms/step - loss: 154567888.0000 - val_loss: 165390208.0000\n",
      "Epoch 73/500\n",
      "25/25 [==============================] - 0s 5ms/step - loss: 155595344.0000 - val_loss: 163481936.0000\n",
      "Epoch 74/500\n",
      "25/25 [==============================] - 0s 5ms/step - loss: 153128304.0000 - val_loss: 172055904.0000\n",
      "Epoch 75/500\n",
      "25/25 [==============================] - 0s 5ms/step - loss: 156354224.0000 - val_loss: 162991456.0000\n",
      "Epoch 76/500\n",
      "25/25 [==============================] - 0s 5ms/step - loss: 159459072.0000 - val_loss: 167418096.0000\n",
      "Epoch 77/500\n",
      "25/25 [==============================] - 0s 5ms/step - loss: 154827216.0000 - val_loss: 169064384.0000\n",
      "Epoch 78/500\n",
      "25/25 [==============================] - 0s 5ms/step - loss: 155405056.0000 - val_loss: 164857584.0000\n",
      "Epoch 79/500\n",
      "25/25 [==============================] - 0s 5ms/step - loss: 153717552.0000 - val_loss: 169168736.0000\n",
      "Epoch 80/500\n",
      "25/25 [==============================] - 0s 5ms/step - loss: 153776928.0000 - val_loss: 163873072.0000\n",
      "Epoch 81/500\n",
      "25/25 [==============================] - 0s 5ms/step - loss: 158437184.0000 - val_loss: 172889792.0000\n",
      "Epoch 82/500\n",
      "25/25 [==============================] - 0s 5ms/step - loss: 154888144.0000 - val_loss: 177775184.0000\n",
      "Epoch 83/500\n",
      "25/25 [==============================] - 0s 5ms/step - loss: 156336576.0000 - val_loss: 169411488.0000\n",
      "Epoch 84/500\n",
      "25/25 [==============================] - 0s 5ms/step - loss: 155562432.0000 - val_loss: 175393216.0000\n",
      "Epoch 85/500\n",
      "25/25 [==============================] - 0s 5ms/step - loss: 155579424.0000 - val_loss: 179050336.0000\n",
      "7/7 [==============================] - 0s 2ms/step\n",
      "MSE, for ANN 162991474.24981555\n"
     ]
    }
   ],
   "source": [
    "#   1. Create a model\n",
    "model = tf.keras.Sequential([\n",
    "    tf.keras.layers.Dense(128, activation='relu', input_shape=(6,)),\n",
    "    tf.keras.layers.Dense(128, activation='relu'),\n",
    "    tf.keras.layers.Dense(128, activation='relu'),\n",
    "    tf.keras.layers.Dense(128, activation='relu'),\n",
    "    tf.keras.layers.Dense(1)\n",
    "])\n",
    "\n",
    "#   2. Compile the model\n",
    "model.compile(optimizer='adam', loss='mean_squared_error')\n",
    "\n",
    "#   3. Implement early stopping\n",
    "early_stopping = tf.keras.callbacks.EarlyStopping(\n",
    "    monitor='val_loss',    # Metric to monitor\n",
    "    patience=10,          # Number of epochs with no improvement after which training will be stopped\n",
    "    restore_best_weights=True  # Whether to restore model weights from the epoch with the best value of the monitored quantity\n",
    ")\n",
    "\n",
    "#    4. Train the model\n",
    "history = model.fit(\n",
    "    X_train,\n",
    "    Y_train,\n",
    "    epochs=500,\n",
    "    batch_size=32,\n",
    "    validation_data=(X_val, Y_val),\n",
    "    callbacks=[early_stopping]\n",
    ")\n",
    "\n",
    "#   5. Evaluate the model\n",
    "Y_predicted_ANN = model.predict(X_val)\n",
    "print(\"MSE, for ANN\", mean_squared_error(Y_val, Y_predicted_ANN))\n"
   ]
  },
  {
   "cell_type": "code",
   "execution_count": 35,
   "metadata": {},
   "outputs": [
    {
     "name": "stdout",
     "output_type": "stream",
     "text": [
      "___________________________________________________________________________\n",
      "   \n",
      " Evaluation\n",
      "   \n",
      "      # eval points. : 200\n",
      "   \n",
      "   Predicting ...\n",
      "   Predicting - done. Time (sec):  0.5919871\n",
      "   \n",
      "   Prediction time/pt. (sec) :  0.0029599\n",
      "   \n",
      "MSE, for KRG: 235654249.66701263\n",
      "___________________________________________________________________________\n",
      "   \n",
      " Evaluation\n",
      "   \n",
      "      # eval points. : 200\n",
      "   \n",
      "   Predicting ...\n",
      "   Predicting - done. Time (sec):  0.0442469\n",
      "   \n",
      "   Prediction time/pt. (sec) :  0.0002212\n",
      "   \n",
      "MSE, for RBF: 165448078.07264093\n"
     ]
    }
   ],
   "source": [
    "X_new = np.array([['2','3','2','0','24','1']])\n",
    "Y_predicted_KRG = KRG_model.predict_values(X_val)\n",
    "print(\"MSE, for KRG:\", mean_squared_error(Y_val, Y_predicted_KRG))\n",
    "Y_predicted_RBF = RBF_model.predict_values(X_val)\n",
    "print(\"MSE, for RBF:\", mean_squared_error(Y_val, Y_predicted_RBF))\n",
    "Y_predicted_SVR = SVR_model.predict(X_val)\n"
   ]
  },
  {
   "cell_type": "code",
   "execution_count": 36,
   "metadata": {},
   "outputs": [
    {
     "data": {
      "text/plain": [
       "<matplotlib.legend.Legend at 0x1ecae84e8d0>"
      ]
     },
     "execution_count": 36,
     "metadata": {},
     "output_type": "execute_result"
    },
    {
     "data": {
      "image/png": "[encoded data removed]",
      "text/plain": [
       "<Figure size 640x480 with 1 Axes>"
      ]
     },
     "metadata": {},
     "output_type": "display_data"
    }
   ],
   "source": [
    "plt.plot([40000, 180000], [40000, 180000], label='y=x', color='red')\n",
    "#plt.scatter(Y_val,Y_predicted_SVR, s=5, label= 'SVR', color='red')\n",
    "#plt.scatter(Y_val, Y_predicted_KRG, s=5, label='KRG', color='green')\n",
    "#plt.scatter(Y_val, Y_predicted_ANN, s=5, label='ANN', color='orange')\n",
    "\n",
    "plt.scatter(Y_val, Y_predicted_RBF, s=5, label='RBF', color='blue')\n",
    "plt.xlabel('True Salary')\n",
    "plt.ylabel('Predicted Salary')\n",
    "plt.legend()\n",
    "\n",
    "\n"
   ]
  },
  {
   "cell_type": "code",
   "execution_count": 11,
   "metadata": {},
   "outputs": [
    {
     "data": {
      "image/png": "[encoded data removed]",
      "text/plain": [
       "<Figure size 640x480 with 1 Axes>"
      ]
     },
     "metadata": {},
     "output_type": "display_data"
    }
   ],
   "source": [
    "plt.semilogy(history.history['loss'],'k',label='training')\n",
    "plt.semilogy(history.history['val_loss'],'r',label='validation')\n",
    "plt.xlabel('Epoch')\n",
    "plt.ylabel('Error')\n",
    "plt.legend()\n",
    "plt.grid()\n",
    "plt.show()"
   ]
  }
 ],
 "metadata": {
  "kernelspec": {
   "display_name": "Python 3",
   "language": "python",
   "name": "python3"
  },
  "language_info": {
   "codemirror_mode": {
    "name": "ipython",
    "version": 3
   },
   "file_extension": ".py",
   "mimetype": "text/x-python",
   "name": "python",
   "nbconvert_exporter": "python",
   "pygments_lexer": "ipython3",
   "version": "3.11.3"
  }
 },
 "nbformat": 4,
 "nbformat_minor": 2
}
