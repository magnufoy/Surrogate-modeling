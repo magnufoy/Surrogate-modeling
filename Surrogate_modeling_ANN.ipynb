{
 "cells": [
  {
   "cell_type": "code",
   "execution_count": 45,
   "metadata": {},
   "outputs": [],
   "source": [
    "import numpy as np\n",
    "from smt.surrogate_models import KRG, RBF\n",
    "import pandas as pd\n",
    "from sklearn.model_selection import train_test_split\n",
    "from sklearn.metrics import mean_squared_error, mean_absolute_error, mean_absolute_percentage_error\n",
    "import matplotlib.pyplot as plt\n",
    "from sklearn.preprocessing import MinMaxScaler\n",
    "import tensorflow as tf\n",
    "from sklearn.svm import SVR\n",
    "from sklearn.model_selection import RandomizedSearchCV\n",
    "import keras\n",
    "from keras import layers\n",
    "import keras_tuner\n",
    "\n",
    "#LSTM batch normalization\n"
   ]
  },
  {
   "cell_type": "code",
   "execution_count": 46,
   "metadata": {},
   "outputs": [],
   "source": [
    "df = pd.read_csv('Monte_Carlo_10000/training_data_bending.csv')"
   ]
  },
  {
   "cell_type": "code",
   "execution_count": 47,
   "metadata": {},
   "outputs": [],
   "source": [
    "X = df[['outer_wall_thickness', 'inside_wall_side_thickness', 'inside_wall_middle_thickness', 'height', 'width', 'sigma0', 'youngs']].values\n",
    "Y = df[['max_force']].values"
   ]
  },
  {
   "cell_type": "code",
   "execution_count": 48,
   "metadata": {},
   "outputs": [],
   "source": [
    "X_train, X_val, Y_train, Y_val = train_test_split(X, Y, test_size=0.2, random_state=42)\n",
    "\n",
    "scaler = MinMaxScaler()\n",
    "X_train = scaler.fit_transform(X_train)\n",
    "X_val = scaler.transform(X_val)"
   ]
  },
  {
   "cell_type": "code",
   "execution_count": 49,
   "metadata": {},
   "outputs": [],
   "source": [
    "def build_model(hp):\n",
    "    model = keras.Sequential()\n",
    "    model.add(keras.Input(shape=(X_train.shape[1],)))\n",
    "    #model.add(layers.Dropout(rate=0.2))\n",
    "    #activation = hp.Choice('activation', values=['relu', 'tanh', 'sigmoid'])\n",
    "    units = hp.Int('units', min_value=16, max_value=128, step=16)\n",
    "    num_layers = hp.Int('num_layers', 1, 10)\n",
    "    learning_rate = hp.Choice('learning_rate', values=[1e-2, 1e-3, 1e-4])\n",
    "    for i in range(num_layers):\n",
    "        model.add(layers.Dense(\n",
    "            units=units, \n",
    "            activation='relu',\n",
    "            ))\n",
    "        #model.add(layers.Dropout(rate=0.5))\n",
    "    model.add(layers.Dense(\n",
    "        units=1, \n",
    "        activation='relu'))\n",
    "    model.compile(\n",
    "        optimizer=keras.optimizers.legacy.Adam(learning_rate),\n",
    "        loss='mse',\n",
    "        metrics=['mse'])\n",
    "    return model\n",
    "\n",
    "hp = keras_tuner.HyperParameters()\n",
    "build_model(hp)\n",
    "\n",
    "tuner = keras_tuner.RandomSearch(\n",
    "    hypermodel=build_model,\n",
    "    objective='mse',\n",
    "    max_trials=200,\n",
    "    executions_per_trial=3,\n",
    "    directory='keras_tuner4',\n",
    "    project_name='test_4'\n",
    ")\n",
    "\n",
    "early_stopping = tf.keras.callbacks.EarlyStopping(\n",
    "    monitor='val_loss',\n",
    "    patience=10,\n",
    "    restore_best_weights=True\n",
    ")"
   ]
  },
  {
   "cell_type": "code",
   "execution_count": 50,
   "metadata": {},
   "outputs": [
    {
     "name": "stdout",
     "output_type": "stream",
     "text": [
      "Search space summary\n",
      "Default search space size: 3\n",
      "units (Int)\n",
      "{'default': None, 'conditions': [], 'min_value': 16, 'max_value': 128, 'step': 16, 'sampling': 'linear'}\n",
      "num_layers (Int)\n",
      "{'default': None, 'conditions': [], 'min_value': 1, 'max_value': 10, 'step': 1, 'sampling': 'linear'}\n",
      "learning_rate (Choice)\n",
      "{'default': 0.01, 'conditions': [], 'values': [0.01, 0.001, 0.0001], 'ordered': True}\n"
     ]
    }
   ],
   "source": [
    "tuner.search_space_summary()"
   ]
  },
  {
   "cell_type": "code",
   "execution_count": 51,
   "metadata": {},
   "outputs": [
    {
     "name": "stdout",
     "output_type": "stream",
     "text": [
      "Trial 107 Complete [00h 01m 07s]\n",
      "mse: 0.25238431617617607\n",
      "\n",
      "Best mse So Far: 0.02261369116604328\n",
      "Total elapsed time: 00h 38m 25s\n",
      "\n",
      "Search: Running Trial #108\n",
      "\n",
      "Value             |Best Value So Far |Hyperparameter\n",
      "80                |80                |units\n",
      "2                 |6                 |num_layers\n",
      "0.001             |0.01              |learning_rate\n",
      "\n",
      "Epoch 1/500\n",
      "3/3 [==============================] - 1s 166ms/step - loss: 926.1906 - mse: 926.1906 - val_loss: 888.0174 - val_mse: 888.0174\n",
      "Epoch 2/500\n",
      "3/3 [==============================] - 0s 68ms/step - loss: 909.3926 - mse: 909.3926 - val_loss: 872.2686 - val_mse: 872.2686\n",
      "Epoch 3/500\n",
      "3/3 [==============================] - 0s 46ms/step - loss: 892.6073 - mse: 892.6073 - val_loss: 856.7174 - val_mse: 856.7174\n",
      "Epoch 4/500\n",
      "3/3 [==============================] - 0s 40ms/step - loss: 875.9183 - mse: 875.9183 - val_loss: 840.3693 - val_mse: 840.3693\n",
      "Epoch 5/500\n",
      "3/3 [==============================] - 0s 31ms/step - loss: 858.4039 - mse: 858.4039 - val_loss: 822.8145 - val_mse: 822.8145\n",
      "Epoch 6/500\n",
      "3/3 [==============================] - 0s 63ms/step - loss: 839.6136 - mse: 839.6136 - val_loss: 803.5009 - val_mse: 803.5009\n",
      "Epoch 7/500\n",
      "3/3 [==============================] - 0s 30ms/step - loss: 819.1979 - mse: 819.1979 - val_loss: 782.3251 - val_mse: 782.3251\n",
      "Epoch 8/500\n",
      "3/3 [==============================] - 0s 38ms/step - loss: 796.0880 - mse: 796.0880 - val_loss: 759.1362 - val_mse: 759.1362\n",
      "Epoch 9/500\n",
      "3/3 [==============================] - 0s 33ms/step - loss: 771.0998 - mse: 771.0998 - val_loss: 733.6217 - val_mse: 733.6217\n",
      "Epoch 10/500\n",
      "3/3 [==============================] - 0s 56ms/step - loss: 743.9489 - mse: 743.9489 - val_loss: 705.5182 - val_mse: 705.5182\n",
      "Epoch 11/500\n",
      "3/3 [==============================] - 0s 46ms/step - loss: 713.9409 - mse: 713.9409 - val_loss: 674.7670 - val_mse: 674.7670\n",
      "Epoch 12/500\n",
      "3/3 [==============================] - 0s 35ms/step - loss: 681.2140 - mse: 681.2140 - val_loss: 641.2189 - val_mse: 641.2189\n",
      "Epoch 13/500\n",
      "3/3 [==============================] - 0s 103ms/step - loss: 645.0034 - mse: 645.0034 - val_loss: 604.8312 - val_mse: 604.8312\n",
      "Epoch 14/500\n",
      "3/3 [==============================] - 0s 40ms/step - loss: 606.5132 - mse: 606.5132 - val_loss: 565.4764 - val_mse: 565.4764\n",
      "Epoch 15/500\n",
      "3/3 [==============================] - 0s 29ms/step - loss: 564.8550 - mse: 564.8550 - val_loss: 523.4351 - val_mse: 523.4351\n",
      "Epoch 16/500\n",
      "3/3 [==============================] - 0s 31ms/step - loss: 520.1715 - mse: 520.1715 - val_loss: 478.8236 - val_mse: 478.8236\n",
      "Epoch 17/500\n",
      "3/3 [==============================] - 0s 30ms/step - loss: 473.3229 - mse: 473.3229 - val_loss: 432.1143 - val_mse: 432.1143\n",
      "Epoch 18/500\n",
      "3/3 [==============================] - 0s 28ms/step - loss: 424.8602 - mse: 424.8602 - val_loss: 383.8446 - val_mse: 383.8446\n",
      "Epoch 19/500\n",
      "3/3 [==============================] - 0s 29ms/step - loss: 374.7714 - mse: 374.7714 - val_loss: 334.8390 - val_mse: 334.8390\n",
      "Epoch 20/500\n",
      "3/3 [==============================] - 0s 28ms/step - loss: 324.2639 - mse: 324.2639 - val_loss: 285.9249 - val_mse: 285.9249\n",
      "Epoch 21/500\n",
      "3/3 [==============================] - 0s 33ms/step - loss: 274.3695 - mse: 274.3695 - val_loss: 238.1232 - val_mse: 238.1232\n",
      "Epoch 22/500\n",
      "3/3 [==============================] - 0s 43ms/step - loss: 225.9842 - mse: 225.9842 - val_loss: 192.5447 - val_mse: 192.5447\n",
      "Epoch 23/500\n",
      "3/3 [==============================] - 0s 37ms/step - loss: 180.8859 - mse: 180.8859 - val_loss: 150.3132 - val_mse: 150.3132\n",
      "Epoch 24/500\n",
      "3/3 [==============================] - 0s 30ms/step - loss: 139.6282 - mse: 139.6282 - val_loss: 112.6661 - val_mse: 112.6661\n",
      "Epoch 25/500\n",
      "3/3 [==============================] - 0s 28ms/step - loss: 103.8215 - mse: 103.8215 - val_loss: 80.6838 - val_mse: 80.6838\n",
      "Epoch 26/500\n",
      "3/3 [==============================] - 0s 37ms/step - loss: 74.2434 - mse: 74.2434 - val_loss: 55.1237 - val_mse: 55.1237\n",
      "Epoch 27/500\n",
      "3/3 [==============================] - 0s 32ms/step - loss: 52.1915 - mse: 52.1915 - val_loss: 36.1936 - val_mse: 36.1936\n",
      "Epoch 28/500\n",
      "3/3 [==============================] - 0s 32ms/step - loss: 36.1799 - mse: 36.1799 - val_loss: 23.7209 - val_mse: 23.7209\n",
      "Epoch 29/500\n",
      "3/3 [==============================] - 0s 29ms/step - loss: 26.7627 - mse: 26.7627 - val_loss: 16.6163 - val_mse: 16.6163\n",
      "Epoch 30/500\n",
      "3/3 [==============================] - 0s 24ms/step - loss: 23.6867 - mse: 23.6867 - val_loss: 13.4851 - val_mse: 13.4851\n",
      "Epoch 31/500\n",
      "3/3 [==============================] - 0s 26ms/step - loss: 22.8906 - mse: 22.8906 - val_loss: 12.8409 - val_mse: 12.8409\n",
      "Epoch 32/500\n",
      "3/3 [==============================] - 0s 16ms/step - loss: 23.9870 - mse: 23.9870 - val_loss: 13.1754 - val_mse: 13.1754\n",
      "Epoch 33/500\n",
      "3/3 [==============================] - 0s 20ms/step - loss: 25.5503 - mse: 25.5503 - val_loss: 13.5414 - val_mse: 13.5414\n",
      "Epoch 34/500\n",
      "3/3 [==============================] - 0s 25ms/step - loss: 26.1840 - mse: 26.1840 - val_loss: 13.4650 - val_mse: 13.4650\n",
      "Epoch 35/500\n",
      "3/3 [==============================] - 0s 25ms/step - loss: 25.9424 - mse: 25.9424 - val_loss: 13.1010 - val_mse: 13.1010\n",
      "Epoch 36/500\n",
      "3/3 [==============================] - 0s 21ms/step - loss: 25.1682 - mse: 25.1682 - val_loss: 12.5695 - val_mse: 12.5695\n",
      "Epoch 37/500\n",
      "3/3 [==============================] - 0s 39ms/step - loss: 24.1568 - mse: 24.1568 - val_loss: 12.1398 - val_mse: 12.1398\n",
      "Epoch 38/500\n",
      "3/3 [==============================] - 0s 46ms/step - loss: 22.8382 - mse: 22.8382 - val_loss: 11.9416 - val_mse: 11.9416\n",
      "Epoch 39/500\n",
      "3/3 [==============================] - 0s 74ms/step - loss: 22.0627 - mse: 22.0627 - val_loss: 11.9689 - val_mse: 11.9689\n",
      "Epoch 40/500\n",
      "3/3 [==============================] - 0s 74ms/step - loss: 21.5910 - mse: 21.5910 - val_loss: 12.1630 - val_mse: 12.1630\n",
      "Epoch 41/500\n",
      "3/3 [==============================] - 0s 56ms/step - loss: 21.1770 - mse: 21.1770 - val_loss: 12.3724 - val_mse: 12.3724\n",
      "Epoch 42/500\n",
      "3/3 [==============================] - 0s 61ms/step - loss: 21.1199 - mse: 21.1199 - val_loss: 12.5881 - val_mse: 12.5881\n",
      "Epoch 43/500\n",
      "3/3 [==============================] - 0s 46ms/step - loss: 21.0140 - mse: 21.0140 - val_loss: 12.6683 - val_mse: 12.6683\n",
      "Epoch 44/500\n",
      "3/3 [==============================] - 0s 47ms/step - loss: 20.8981 - mse: 20.8981 - val_loss: 12.5966 - val_mse: 12.5966\n",
      "Epoch 45/500\n",
      "3/3 [==============================] - 0s 39ms/step - loss: 20.7257 - mse: 20.7257 - val_loss: 12.4112 - val_mse: 12.4112\n",
      "Epoch 46/500\n",
      "3/3 [==============================] - 0s 36ms/step - loss: 20.5566 - mse: 20.5566 - val_loss: 12.1528 - val_mse: 12.1528\n",
      "Epoch 47/500\n",
      "3/3 [==============================] - 0s 47ms/step - loss: 20.3223 - mse: 20.3223 - val_loss: 11.8997 - val_mse: 11.8997\n",
      "Epoch 48/500\n",
      "3/3 [==============================] - 0s 38ms/step - loss: 20.1381 - mse: 20.1381 - val_loss: 11.6090 - val_mse: 11.6090\n",
      "Epoch 49/500\n",
      "3/3 [==============================] - 0s 42ms/step - loss: 19.9111 - mse: 19.9111 - val_loss: 11.3605 - val_mse: 11.3605\n",
      "Epoch 50/500\n",
      "3/3 [==============================] - 0s 53ms/step - loss: 19.7046 - mse: 19.7046 - val_loss: 11.1253 - val_mse: 11.1253\n",
      "Epoch 51/500\n",
      "3/3 [==============================] - 0s 55ms/step - loss: 19.5159 - mse: 19.5159 - val_loss: 10.8915 - val_mse: 10.8915\n",
      "Epoch 52/500\n",
      "3/3 [==============================] - 0s 30ms/step - loss: 19.3351 - mse: 19.3351 - val_loss: 10.6534 - val_mse: 10.6534\n",
      "Epoch 53/500\n",
      "3/3 [==============================] - 0s 32ms/step - loss: 19.1513 - mse: 19.1513 - val_loss: 10.4297 - val_mse: 10.4297\n",
      "Epoch 54/500\n",
      "3/3 [==============================] - 0s 29ms/step - loss: 18.9734 - mse: 18.9734 - val_loss: 10.2213 - val_mse: 10.2213\n",
      "Epoch 55/500\n",
      "3/3 [==============================] - 0s 29ms/step - loss: 18.8095 - mse: 18.8095 - val_loss: 10.0384 - val_mse: 10.0384\n",
      "Epoch 56/500\n",
      "3/3 [==============================] - 0s 29ms/step - loss: 18.6212 - mse: 18.6212 - val_loss: 9.9069 - val_mse: 9.9069\n",
      "Epoch 57/500\n",
      "3/3 [==============================] - 0s 24ms/step - loss: 18.4324 - mse: 18.4324 - val_loss: 9.8128 - val_mse: 9.8128\n",
      "Epoch 58/500\n",
      "3/3 [==============================] - 0s 33ms/step - loss: 18.2227 - mse: 18.2227 - val_loss: 9.7757 - val_mse: 9.7757\n",
      "Epoch 59/500\n",
      "3/3 [==============================] - 0s 26ms/step - loss: 18.0003 - mse: 18.0003 - val_loss: 9.7412 - val_mse: 9.7412\n",
      "Epoch 60/500\n",
      "3/3 [==============================] - 0s 24ms/step - loss: 17.8513 - mse: 17.8513 - val_loss: 9.7602 - val_mse: 9.7602\n",
      "Epoch 61/500\n",
      "3/3 [==============================] - 0s 24ms/step - loss: 17.6594 - mse: 17.6594 - val_loss: 9.6630 - val_mse: 9.6630\n",
      "Epoch 62/500\n",
      "3/3 [==============================] - 0s 32ms/step - loss: 17.4727 - mse: 17.4727 - val_loss: 9.5125 - val_mse: 9.5125\n",
      "Epoch 63/500\n",
      "3/3 [==============================] - 0s 39ms/step - loss: 17.2822 - mse: 17.2822 - val_loss: 9.3179 - val_mse: 9.3179\n",
      "Epoch 64/500\n",
      "3/3 [==============================] - 0s 33ms/step - loss: 17.0814 - mse: 17.0814 - val_loss: 9.1249 - val_mse: 9.1249\n",
      "Epoch 65/500\n",
      "3/3 [==============================] - 0s 44ms/step - loss: 16.8903 - mse: 16.8903 - val_loss: 8.9663 - val_mse: 8.9663\n",
      "Epoch 66/500\n",
      "3/3 [==============================] - 0s 30ms/step - loss: 16.6817 - mse: 16.6817 - val_loss: 8.8422 - val_mse: 8.8422\n",
      "Epoch 67/500\n",
      "3/3 [==============================] - 0s 29ms/step - loss: 16.4887 - mse: 16.4887 - val_loss: 8.7100 - val_mse: 8.7100\n",
      "Epoch 68/500\n",
      "3/3 [==============================] - 0s 29ms/step - loss: 16.3111 - mse: 16.3111 - val_loss: 8.5889 - val_mse: 8.5889\n",
      "Epoch 69/500\n",
      "3/3 [==============================] - 0s 32ms/step - loss: 16.1323 - mse: 16.1323 - val_loss: 8.4718 - val_mse: 8.4718\n",
      "Epoch 70/500\n",
      "3/3 [==============================] - 0s 25ms/step - loss: 15.9154 - mse: 15.9154 - val_loss: 8.2776 - val_mse: 8.2776\n",
      "Epoch 71/500\n",
      "3/3 [==============================] - 0s 24ms/step - loss: 15.7223 - mse: 15.7223 - val_loss: 8.0915 - val_mse: 8.0915\n",
      "Epoch 72/500\n",
      "3/3 [==============================] - 0s 23ms/step - loss: 15.5111 - mse: 15.5111 - val_loss: 7.9412 - val_mse: 7.9412\n",
      "Epoch 73/500\n",
      "3/3 [==============================] - 0s 24ms/step - loss: 15.3260 - mse: 15.3260 - val_loss: 7.7894 - val_mse: 7.7894\n",
      "Epoch 74/500\n",
      "3/3 [==============================] - 0s 23ms/step - loss: 15.1387 - mse: 15.1387 - val_loss: 7.6234 - val_mse: 7.6234\n",
      "Epoch 75/500\n",
      "3/3 [==============================] - 0s 25ms/step - loss: 14.9328 - mse: 14.9328 - val_loss: 7.4504 - val_mse: 7.4504\n",
      "Epoch 76/500\n",
      "3/3 [==============================] - 0s 27ms/step - loss: 14.7709 - mse: 14.7709 - val_loss: 7.2786 - val_mse: 7.2786\n",
      "Epoch 77/500\n",
      "3/3 [==============================] - 0s 33ms/step - loss: 14.5493 - mse: 14.5493 - val_loss: 7.1926 - val_mse: 7.1926\n",
      "Epoch 78/500\n",
      "3/3 [==============================] - 0s 27ms/step - loss: 14.3598 - mse: 14.3598 - val_loss: 7.1278 - val_mse: 7.1278\n",
      "Epoch 79/500\n",
      "3/3 [==============================] - 0s 24ms/step - loss: 14.1662 - mse: 14.1662 - val_loss: 7.1043 - val_mse: 7.1043\n",
      "Epoch 80/500\n",
      "3/3 [==============================] - 0s 24ms/step - loss: 14.0124 - mse: 14.0124 - val_loss: 7.0162 - val_mse: 7.0162\n",
      "Epoch 81/500\n",
      "3/3 [==============================] - 0s 24ms/step - loss: 13.8360 - mse: 13.8360 - val_loss: 6.9756 - val_mse: 6.9756\n",
      "Epoch 82/500\n",
      "3/3 [==============================] - 0s 27ms/step - loss: 13.6750 - mse: 13.6750 - val_loss: 6.9003 - val_mse: 6.9003\n",
      "Epoch 83/500\n",
      "3/3 [==============================] - 0s 24ms/step - loss: 13.5006 - mse: 13.5006 - val_loss: 6.8311 - val_mse: 6.8311\n",
      "Epoch 84/500\n",
      "3/3 [==============================] - 0s 24ms/step - loss: 13.3400 - mse: 13.3400 - val_loss: 6.6798 - val_mse: 6.6798\n",
      "Epoch 85/500\n",
      "3/3 [==============================] - 0s 26ms/step - loss: 13.1487 - mse: 13.1487 - val_loss: 6.5095 - val_mse: 6.5095\n",
      "Epoch 86/500\n",
      "3/3 [==============================] - 0s 32ms/step - loss: 12.9606 - mse: 12.9606 - val_loss: 6.3444 - val_mse: 6.3444\n",
      "Epoch 87/500\n",
      "3/3 [==============================] - 0s 168ms/step - loss: 12.7682 - mse: 12.7682 - val_loss: 6.1674 - val_mse: 6.1674\n",
      "Epoch 88/500\n",
      "3/3 [==============================] - 0s 107ms/step - loss: 12.5955 - mse: 12.5955 - val_loss: 5.9784 - val_mse: 5.9784\n",
      "Epoch 89/500\n",
      "3/3 [==============================] - 0s 46ms/step - loss: 12.4083 - mse: 12.4083 - val_loss: 5.8022 - val_mse: 5.8022\n",
      "Epoch 90/500\n",
      "3/3 [==============================] - 0s 41ms/step - loss: 12.2361 - mse: 12.2361 - val_loss: 5.6358 - val_mse: 5.6358\n",
      "Epoch 91/500\n",
      "3/3 [==============================] - 0s 39ms/step - loss: 12.0774 - mse: 12.0774 - val_loss: 5.4623 - val_mse: 5.4623\n",
      "Epoch 92/500\n",
      "3/3 [==============================] - 0s 57ms/step - loss: 11.9308 - mse: 11.9308 - val_loss: 5.3450 - val_mse: 5.3450\n",
      "Epoch 93/500\n",
      "3/3 [==============================] - 0s 38ms/step - loss: 11.7414 - mse: 11.7414 - val_loss: 5.2917 - val_mse: 5.2917\n",
      "Epoch 94/500\n",
      "3/3 [==============================] - 0s 36ms/step - loss: 11.5598 - mse: 11.5598 - val_loss: 5.2956 - val_mse: 5.2956\n",
      "Epoch 95/500\n",
      "3/3 [==============================] - 0s 35ms/step - loss: 11.4146 - mse: 11.4146 - val_loss: 5.3000 - val_mse: 5.3000\n",
      "Epoch 96/500\n",
      "3/3 [==============================] - 0s 30ms/step - loss: 11.2551 - mse: 11.2551 - val_loss: 5.2802 - val_mse: 5.2802\n",
      "Epoch 97/500\n",
      "3/3 [==============================] - 0s 31ms/step - loss: 11.1109 - mse: 11.1109 - val_loss: 5.2387 - val_mse: 5.2387\n",
      "Epoch 98/500\n",
      "3/3 [==============================] - 0s 30ms/step - loss: 10.9550 - mse: 10.9550 - val_loss: 5.1144 - val_mse: 5.1144\n",
      "Epoch 99/500\n",
      "3/3 [==============================] - 0s 30ms/step - loss: 10.7932 - mse: 10.7932 - val_loss: 5.0010 - val_mse: 5.0010\n",
      "Epoch 100/500\n",
      "3/3 [==============================] - 0s 32ms/step - loss: 10.6542 - mse: 10.6542 - val_loss: 4.8355 - val_mse: 4.8355\n",
      "Epoch 101/500\n",
      "3/3 [==============================] - 0s 31ms/step - loss: 10.4705 - mse: 10.4705 - val_loss: 4.7260 - val_mse: 4.7260\n",
      "Epoch 102/500\n",
      "3/3 [==============================] - 0s 30ms/step - loss: 10.3156 - mse: 10.3156 - val_loss: 4.6276 - val_mse: 4.6276\n",
      "Epoch 103/500\n",
      "3/3 [==============================] - 0s 26ms/step - loss: 10.1670 - mse: 10.1670 - val_loss: 4.4899 - val_mse: 4.4899\n",
      "Epoch 104/500\n",
      "3/3 [==============================] - 0s 32ms/step - loss: 10.0168 - mse: 10.0168 - val_loss: 4.3737 - val_mse: 4.3737\n",
      "Epoch 105/500\n",
      "3/3 [==============================] - 0s 68ms/step - loss: 9.8700 - mse: 9.8700 - val_loss: 4.2932 - val_mse: 4.2932\n",
      "Epoch 106/500\n",
      "3/3 [==============================] - 0s 47ms/step - loss: 9.7305 - mse: 9.7305 - val_loss: 4.2141 - val_mse: 4.2141\n",
      "Epoch 107/500\n",
      "3/3 [==============================] - 0s 35ms/step - loss: 9.5751 - mse: 9.5751 - val_loss: 4.1581 - val_mse: 4.1581\n",
      "Epoch 108/500\n",
      "3/3 [==============================] - 0s 67ms/step - loss: 9.4315 - mse: 9.4315 - val_loss: 4.1114 - val_mse: 4.1114\n",
      "Epoch 109/500\n",
      "3/3 [==============================] - 0s 41ms/step - loss: 9.2735 - mse: 9.2735 - val_loss: 4.0995 - val_mse: 4.0995\n",
      "Epoch 110/500\n",
      "3/3 [==============================] - 0s 43ms/step - loss: 9.1513 - mse: 9.1513 - val_loss: 4.1051 - val_mse: 4.1051\n",
      "Epoch 111/500\n",
      "3/3 [==============================] - 0s 45ms/step - loss: 9.0135 - mse: 9.0135 - val_loss: 4.0660 - val_mse: 4.0660\n",
      "Epoch 112/500\n",
      "3/3 [==============================] - 0s 36ms/step - loss: 8.8916 - mse: 8.8916 - val_loss: 4.0222 - val_mse: 4.0222\n",
      "Epoch 113/500\n",
      "3/3 [==============================] - 0s 31ms/step - loss: 8.7521 - mse: 8.7521 - val_loss: 3.8928 - val_mse: 3.8928\n",
      "Epoch 114/500\n",
      "3/3 [==============================] - 0s 189ms/step - loss: 8.5983 - mse: 8.5983 - val_loss: 3.7881 - val_mse: 3.7881\n",
      "Epoch 115/500\n",
      "3/3 [==============================] - 0s 171ms/step - loss: 8.4686 - mse: 8.4686 - val_loss: 3.6938 - val_mse: 3.6938\n",
      "Epoch 116/500\n",
      "3/3 [==============================] - 0s 165ms/step - loss: 8.3398 - mse: 8.3398 - val_loss: 3.6136 - val_mse: 3.6136\n",
      "Epoch 117/500\n",
      "3/3 [==============================] - 2s 812ms/step - loss: 8.2005 - mse: 8.2005 - val_loss: 3.5748 - val_mse: 3.5748\n",
      "Epoch 118/500\n",
      "3/3 [==============================] - 0s 220ms/step - loss: 8.0852 - mse: 8.0852 - val_loss: 3.5520 - val_mse: 3.5520\n",
      "Epoch 119/500\n",
      "3/3 [==============================] - 0s 199ms/step - loss: 7.9561 - mse: 7.9561 - val_loss: 3.5026 - val_mse: 3.5026\n",
      "Epoch 120/500\n",
      "3/3 [==============================] - 0s 83ms/step - loss: 7.8472 - mse: 7.8472 - val_loss: 3.4211 - val_mse: 3.4211\n",
      "Epoch 121/500\n",
      "3/3 [==============================] - 0s 168ms/step - loss: 7.7205 - mse: 7.7205 - val_loss: 3.3551 - val_mse: 3.3551\n",
      "Epoch 122/500\n",
      "3/3 [==============================] - 0s 156ms/step - loss: 7.5843 - mse: 7.5843 - val_loss: 3.3457 - val_mse: 3.3457\n",
      "Epoch 123/500\n",
      "3/3 [==============================] - 0s 82ms/step - loss: 7.4753 - mse: 7.4753 - val_loss: 3.3539 - val_mse: 3.3539\n",
      "Epoch 124/500\n",
      "3/3 [==============================] - 0s 86ms/step - loss: 7.3608 - mse: 7.3608 - val_loss: 3.3423 - val_mse: 3.3423\n",
      "Epoch 125/500\n",
      "3/3 [==============================] - 1s 302ms/step - loss: 7.2524 - mse: 7.2524 - val_loss: 3.2874 - val_mse: 3.2874\n",
      "Epoch 126/500\n",
      "3/3 [==============================] - 0s 173ms/step - loss: 7.1410 - mse: 7.1410 - val_loss: 3.2274 - val_mse: 3.2274\n",
      "Epoch 127/500\n",
      "3/3 [==============================] - 0s 103ms/step - loss: 7.0241 - mse: 7.0241 - val_loss: 3.1268 - val_mse: 3.1268\n",
      "Epoch 128/500\n",
      "3/3 [==============================] - 0s 124ms/step - loss: 6.9114 - mse: 6.9114 - val_loss: 3.0663 - val_mse: 3.0663\n",
      "Epoch 129/500\n",
      "3/3 [==============================] - 0s 171ms/step - loss: 6.7901 - mse: 6.7901 - val_loss: 3.0450 - val_mse: 3.0450\n",
      "Epoch 130/500\n",
      "3/3 [==============================] - 1s 276ms/step - loss: 6.6933 - mse: 6.6933 - val_loss: 2.9877 - val_mse: 2.9877\n",
      "Epoch 131/500\n",
      "3/3 [==============================] - 0s 192ms/step - loss: 6.5746 - mse: 6.5746 - val_loss: 2.9546 - val_mse: 2.9546\n",
      "Epoch 132/500\n",
      "3/3 [==============================] - 0s 167ms/step - loss: 6.4820 - mse: 6.4820 - val_loss: 2.9323 - val_mse: 2.9323\n",
      "Epoch 133/500\n",
      "1/3 [=========>....................] - ETA: 0s - loss: 7.5940 - mse: 7.5940"
     ]
    },
    {
     "ename": "KeyboardInterrupt",
     "evalue": "",
     "output_type": "error",
     "traceback": [
      "\u001b[0;31m---------------------------------------------------------------------------\u001b[0m",
      "\u001b[0;31mKeyboardInterrupt\u001b[0m                         Traceback (most recent call last)",
      "Cell \u001b[0;32mIn[51], line 1\u001b[0m\n\u001b[0;32m----> 1\u001b[0m \u001b[43mtuner\u001b[49m\u001b[38;5;241;43m.\u001b[39;49m\u001b[43msearch\u001b[49m\u001b[43m(\u001b[49m\n\u001b[1;32m      2\u001b[0m \u001b[43m    \u001b[49m\u001b[43mX_train\u001b[49m\u001b[43m,\u001b[49m\u001b[43m \u001b[49m\n\u001b[1;32m      3\u001b[0m \u001b[43m    \u001b[49m\u001b[43mY_train\u001b[49m\u001b[43m,\u001b[49m\u001b[43m \u001b[49m\n\u001b[1;32m      4\u001b[0m \u001b[43m    \u001b[49m\u001b[43mepochs\u001b[49m\u001b[38;5;241;43m=\u001b[39;49m\u001b[38;5;241;43m500\u001b[39;49m\u001b[43m,\u001b[49m\n\u001b[1;32m      5\u001b[0m \u001b[43m    \u001b[49m\u001b[43mbatch_size\u001b[49m\u001b[38;5;241;43m=\u001b[39;49m\u001b[38;5;241;43m32\u001b[39;49m\u001b[43m,\u001b[49m\n\u001b[1;32m      6\u001b[0m \u001b[43m    \u001b[49m\u001b[43mvalidation_data\u001b[49m\u001b[38;5;241;43m=\u001b[39;49m\u001b[43m(\u001b[49m\u001b[43mX_val\u001b[49m\u001b[43m,\u001b[49m\u001b[43m \u001b[49m\u001b[43mY_val\u001b[49m\u001b[43m)\u001b[49m\u001b[43m,\u001b[49m\u001b[43m \u001b[49m\n\u001b[1;32m      7\u001b[0m \u001b[43m    \u001b[49m\u001b[43mcallbacks\u001b[49m\u001b[38;5;241;43m=\u001b[39;49m\u001b[43m[\u001b[49m\u001b[43mearly_stopping\u001b[49m\u001b[43m]\u001b[49m\n\u001b[1;32m      8\u001b[0m \u001b[43m)\u001b[49m\n\u001b[1;32m     10\u001b[0m \u001b[38;5;66;03m# Retrieve the hyperparameters and performance\u001b[39;00m\n\u001b[1;32m     11\u001b[0m results \u001b[38;5;241m=\u001b[39m []\n",
      "File \u001b[0;32m/opt/homebrew/lib/python3.11/site-packages/keras_tuner/src/engine/base_tuner.py:234\u001b[0m, in \u001b[0;36mBaseTuner.search\u001b[0;34m(self, *fit_args, **fit_kwargs)\u001b[0m\n\u001b[1;32m    231\u001b[0m         \u001b[38;5;28;01mcontinue\u001b[39;00m\n\u001b[1;32m    233\u001b[0m     \u001b[38;5;28mself\u001b[39m\u001b[38;5;241m.\u001b[39mon_trial_begin(trial)\n\u001b[0;32m--> 234\u001b[0m     \u001b[38;5;28;43mself\u001b[39;49m\u001b[38;5;241;43m.\u001b[39;49m\u001b[43m_try_run_and_update_trial\u001b[49m\u001b[43m(\u001b[49m\u001b[43mtrial\u001b[49m\u001b[43m,\u001b[49m\u001b[43m \u001b[49m\u001b[38;5;241;43m*\u001b[39;49m\u001b[43mfit_args\u001b[49m\u001b[43m,\u001b[49m\u001b[43m \u001b[49m\u001b[38;5;241;43m*\u001b[39;49m\u001b[38;5;241;43m*\u001b[39;49m\u001b[43mfit_kwargs\u001b[49m\u001b[43m)\u001b[49m\n\u001b[1;32m    235\u001b[0m     \u001b[38;5;28mself\u001b[39m\u001b[38;5;241m.\u001b[39mon_trial_end(trial)\n\u001b[1;32m    236\u001b[0m \u001b[38;5;28mself\u001b[39m\u001b[38;5;241m.\u001b[39mon_search_end()\n",
      "File \u001b[0;32m/opt/homebrew/lib/python3.11/site-packages/keras_tuner/src/engine/base_tuner.py:274\u001b[0m, in \u001b[0;36mBaseTuner._try_run_and_update_trial\u001b[0;34m(self, trial, *fit_args, **fit_kwargs)\u001b[0m\n\u001b[1;32m    272\u001b[0m \u001b[38;5;28;01mdef\u001b[39;00m \u001b[38;5;21m_try_run_and_update_trial\u001b[39m(\u001b[38;5;28mself\u001b[39m, trial, \u001b[38;5;241m*\u001b[39mfit_args, \u001b[38;5;241m*\u001b[39m\u001b[38;5;241m*\u001b[39mfit_kwargs):\n\u001b[1;32m    273\u001b[0m     \u001b[38;5;28;01mtry\u001b[39;00m:\n\u001b[0;32m--> 274\u001b[0m         \u001b[38;5;28;43mself\u001b[39;49m\u001b[38;5;241;43m.\u001b[39;49m\u001b[43m_run_and_update_trial\u001b[49m\u001b[43m(\u001b[49m\u001b[43mtrial\u001b[49m\u001b[43m,\u001b[49m\u001b[43m \u001b[49m\u001b[38;5;241;43m*\u001b[39;49m\u001b[43mfit_args\u001b[49m\u001b[43m,\u001b[49m\u001b[43m \u001b[49m\u001b[38;5;241;43m*\u001b[39;49m\u001b[38;5;241;43m*\u001b[39;49m\u001b[43mfit_kwargs\u001b[49m\u001b[43m)\u001b[49m\n\u001b[1;32m    275\u001b[0m         trial\u001b[38;5;241m.\u001b[39mstatus \u001b[38;5;241m=\u001b[39m trial_module\u001b[38;5;241m.\u001b[39mTrialStatus\u001b[38;5;241m.\u001b[39mCOMPLETED\n\u001b[1;32m    276\u001b[0m         \u001b[38;5;28;01mreturn\u001b[39;00m\n",
      "File \u001b[0;32m/opt/homebrew/lib/python3.11/site-packages/keras_tuner/src/engine/base_tuner.py:239\u001b[0m, in \u001b[0;36mBaseTuner._run_and_update_trial\u001b[0;34m(self, trial, *fit_args, **fit_kwargs)\u001b[0m\n\u001b[1;32m    238\u001b[0m \u001b[38;5;28;01mdef\u001b[39;00m \u001b[38;5;21m_run_and_update_trial\u001b[39m(\u001b[38;5;28mself\u001b[39m, trial, \u001b[38;5;241m*\u001b[39mfit_args, \u001b[38;5;241m*\u001b[39m\u001b[38;5;241m*\u001b[39mfit_kwargs):\n\u001b[0;32m--> 239\u001b[0m     results \u001b[38;5;241m=\u001b[39m \u001b[38;5;28;43mself\u001b[39;49m\u001b[38;5;241;43m.\u001b[39;49m\u001b[43mrun_trial\u001b[49m\u001b[43m(\u001b[49m\u001b[43mtrial\u001b[49m\u001b[43m,\u001b[49m\u001b[43m \u001b[49m\u001b[38;5;241;43m*\u001b[39;49m\u001b[43mfit_args\u001b[49m\u001b[43m,\u001b[49m\u001b[43m \u001b[49m\u001b[38;5;241;43m*\u001b[39;49m\u001b[38;5;241;43m*\u001b[39;49m\u001b[43mfit_kwargs\u001b[49m\u001b[43m)\u001b[49m\n\u001b[1;32m    240\u001b[0m     \u001b[38;5;28;01mif\u001b[39;00m \u001b[38;5;28mself\u001b[39m\u001b[38;5;241m.\u001b[39moracle\u001b[38;5;241m.\u001b[39mget_trial(trial\u001b[38;5;241m.\u001b[39mtrial_id)\u001b[38;5;241m.\u001b[39mmetrics\u001b[38;5;241m.\u001b[39mexists(\n\u001b[1;32m    241\u001b[0m         \u001b[38;5;28mself\u001b[39m\u001b[38;5;241m.\u001b[39moracle\u001b[38;5;241m.\u001b[39mobjective\u001b[38;5;241m.\u001b[39mname\n\u001b[1;32m    242\u001b[0m     ):\n\u001b[1;32m    243\u001b[0m         \u001b[38;5;66;03m# The oracle is updated by calling `self.oracle.update_trial()` in\u001b[39;00m\n\u001b[1;32m    244\u001b[0m         \u001b[38;5;66;03m# `Tuner.run_trial()`. For backward compatibility, we support this\u001b[39;00m\n\u001b[1;32m    245\u001b[0m         \u001b[38;5;66;03m# use case. No further action needed in this case.\u001b[39;00m\n\u001b[1;32m    246\u001b[0m         warnings\u001b[38;5;241m.\u001b[39mwarn(\n\u001b[1;32m    247\u001b[0m             \u001b[38;5;124m\"\u001b[39m\u001b[38;5;124mThe use case of calling \u001b[39m\u001b[38;5;124m\"\u001b[39m\n\u001b[1;32m    248\u001b[0m             \u001b[38;5;124m\"\u001b[39m\u001b[38;5;124m`self.oracle.update_trial(trial_id, metrics)` \u001b[39m\u001b[38;5;124m\"\u001b[39m\n\u001b[0;32m   (...)\u001b[0m\n\u001b[1;32m    254\u001b[0m             stacklevel\u001b[38;5;241m=\u001b[39m\u001b[38;5;241m2\u001b[39m,\n\u001b[1;32m    255\u001b[0m         )\n",
      "File \u001b[0;32m/opt/homebrew/lib/python3.11/site-packages/keras_tuner/src/engine/tuner.py:314\u001b[0m, in \u001b[0;36mTuner.run_trial\u001b[0;34m(self, trial, *args, **kwargs)\u001b[0m\n\u001b[1;32m    312\u001b[0m     callbacks\u001b[38;5;241m.\u001b[39mappend(model_checkpoint)\n\u001b[1;32m    313\u001b[0m     copied_kwargs[\u001b[38;5;124m\"\u001b[39m\u001b[38;5;124mcallbacks\u001b[39m\u001b[38;5;124m\"\u001b[39m] \u001b[38;5;241m=\u001b[39m callbacks\n\u001b[0;32m--> 314\u001b[0m     obj_value \u001b[38;5;241m=\u001b[39m \u001b[38;5;28;43mself\u001b[39;49m\u001b[38;5;241;43m.\u001b[39;49m\u001b[43m_build_and_fit_model\u001b[49m\u001b[43m(\u001b[49m\u001b[43mtrial\u001b[49m\u001b[43m,\u001b[49m\u001b[43m \u001b[49m\u001b[38;5;241;43m*\u001b[39;49m\u001b[43margs\u001b[49m\u001b[43m,\u001b[49m\u001b[43m \u001b[49m\u001b[38;5;241;43m*\u001b[39;49m\u001b[38;5;241;43m*\u001b[39;49m\u001b[43mcopied_kwargs\u001b[49m\u001b[43m)\u001b[49m\n\u001b[1;32m    316\u001b[0m     histories\u001b[38;5;241m.\u001b[39mappend(obj_value)\n\u001b[1;32m    317\u001b[0m \u001b[38;5;28;01mreturn\u001b[39;00m histories\n",
      "File \u001b[0;32m/opt/homebrew/lib/python3.11/site-packages/keras_tuner/src/engine/tuner.py:233\u001b[0m, in \u001b[0;36mTuner._build_and_fit_model\u001b[0;34m(self, trial, *args, **kwargs)\u001b[0m\n\u001b[1;32m    231\u001b[0m hp \u001b[38;5;241m=\u001b[39m trial\u001b[38;5;241m.\u001b[39mhyperparameters\n\u001b[1;32m    232\u001b[0m model \u001b[38;5;241m=\u001b[39m \u001b[38;5;28mself\u001b[39m\u001b[38;5;241m.\u001b[39m_try_build(hp)\n\u001b[0;32m--> 233\u001b[0m results \u001b[38;5;241m=\u001b[39m \u001b[38;5;28;43mself\u001b[39;49m\u001b[38;5;241;43m.\u001b[39;49m\u001b[43mhypermodel\u001b[49m\u001b[38;5;241;43m.\u001b[39;49m\u001b[43mfit\u001b[49m\u001b[43m(\u001b[49m\u001b[43mhp\u001b[49m\u001b[43m,\u001b[49m\u001b[43m \u001b[49m\u001b[43mmodel\u001b[49m\u001b[43m,\u001b[49m\u001b[43m \u001b[49m\u001b[38;5;241;43m*\u001b[39;49m\u001b[43margs\u001b[49m\u001b[43m,\u001b[49m\u001b[43m \u001b[49m\u001b[38;5;241;43m*\u001b[39;49m\u001b[38;5;241;43m*\u001b[39;49m\u001b[43mkwargs\u001b[49m\u001b[43m)\u001b[49m\n\u001b[1;32m    235\u001b[0m \u001b[38;5;66;03m# Save the build config for model loading later.\u001b[39;00m\n\u001b[1;32m    236\u001b[0m \u001b[38;5;28;01mif\u001b[39;00m backend\u001b[38;5;241m.\u001b[39mconfig\u001b[38;5;241m.\u001b[39mmulti_backend():\n",
      "File \u001b[0;32m/opt/homebrew/lib/python3.11/site-packages/keras_tuner/src/engine/hypermodel.py:149\u001b[0m, in \u001b[0;36mHyperModel.fit\u001b[0;34m(self, hp, model, *args, **kwargs)\u001b[0m\n\u001b[1;32m    125\u001b[0m \u001b[38;5;28;01mdef\u001b[39;00m \u001b[38;5;21mfit\u001b[39m(\u001b[38;5;28mself\u001b[39m, hp, model, \u001b[38;5;241m*\u001b[39margs, \u001b[38;5;241m*\u001b[39m\u001b[38;5;241m*\u001b[39mkwargs):\n\u001b[1;32m    126\u001b[0m \u001b[38;5;250m    \u001b[39m\u001b[38;5;124;03m\"\"\"Train the model.\u001b[39;00m\n\u001b[1;32m    127\u001b[0m \n\u001b[1;32m    128\u001b[0m \u001b[38;5;124;03m    Args:\u001b[39;00m\n\u001b[0;32m   (...)\u001b[0m\n\u001b[1;32m    147\u001b[0m \u001b[38;5;124;03m        If return a float, it should be the `objective` value.\u001b[39;00m\n\u001b[1;32m    148\u001b[0m \u001b[38;5;124;03m    \"\"\"\u001b[39;00m\n\u001b[0;32m--> 149\u001b[0m     \u001b[38;5;28;01mreturn\u001b[39;00m \u001b[43mmodel\u001b[49m\u001b[38;5;241;43m.\u001b[39;49m\u001b[43mfit\u001b[49m\u001b[43m(\u001b[49m\u001b[38;5;241;43m*\u001b[39;49m\u001b[43margs\u001b[49m\u001b[43m,\u001b[49m\u001b[43m \u001b[49m\u001b[38;5;241;43m*\u001b[39;49m\u001b[38;5;241;43m*\u001b[39;49m\u001b[43mkwargs\u001b[49m\u001b[43m)\u001b[49m\n",
      "File \u001b[0;32m/opt/homebrew/lib/python3.11/site-packages/keras/src/utils/traceback_utils.py:65\u001b[0m, in \u001b[0;36mfilter_traceback.<locals>.error_handler\u001b[0;34m(*args, **kwargs)\u001b[0m\n\u001b[1;32m     63\u001b[0m filtered_tb \u001b[38;5;241m=\u001b[39m \u001b[38;5;28;01mNone\u001b[39;00m\n\u001b[1;32m     64\u001b[0m \u001b[38;5;28;01mtry\u001b[39;00m:\n\u001b[0;32m---> 65\u001b[0m     \u001b[38;5;28;01mreturn\u001b[39;00m \u001b[43mfn\u001b[49m\u001b[43m(\u001b[49m\u001b[38;5;241;43m*\u001b[39;49m\u001b[43margs\u001b[49m\u001b[43m,\u001b[49m\u001b[43m \u001b[49m\u001b[38;5;241;43m*\u001b[39;49m\u001b[38;5;241;43m*\u001b[39;49m\u001b[43mkwargs\u001b[49m\u001b[43m)\u001b[49m\n\u001b[1;32m     66\u001b[0m \u001b[38;5;28;01mexcept\u001b[39;00m \u001b[38;5;167;01mException\u001b[39;00m \u001b[38;5;28;01mas\u001b[39;00m e:\n\u001b[1;32m     67\u001b[0m     filtered_tb \u001b[38;5;241m=\u001b[39m _process_traceback_frames(e\u001b[38;5;241m.\u001b[39m__traceback__)\n",
      "File \u001b[0;32m/opt/homebrew/lib/python3.11/site-packages/keras/src/engine/training.py:1791\u001b[0m, in \u001b[0;36mModel.fit\u001b[0;34m(self, x, y, batch_size, epochs, verbose, callbacks, validation_split, validation_data, shuffle, class_weight, sample_weight, initial_epoch, steps_per_epoch, validation_steps, validation_batch_size, validation_freq, max_queue_size, workers, use_multiprocessing)\u001b[0m\n\u001b[1;32m   1775\u001b[0m \u001b[38;5;28;01mif\u001b[39;00m \u001b[38;5;28mgetattr\u001b[39m(\u001b[38;5;28mself\u001b[39m, \u001b[38;5;124m\"\u001b[39m\u001b[38;5;124m_eval_data_handler\u001b[39m\u001b[38;5;124m\"\u001b[39m, \u001b[38;5;28;01mNone\u001b[39;00m) \u001b[38;5;129;01mis\u001b[39;00m \u001b[38;5;28;01mNone\u001b[39;00m:\n\u001b[1;32m   1776\u001b[0m     \u001b[38;5;28mself\u001b[39m\u001b[38;5;241m.\u001b[39m_eval_data_handler \u001b[38;5;241m=\u001b[39m data_adapter\u001b[38;5;241m.\u001b[39mget_data_handler(\n\u001b[1;32m   1777\u001b[0m         x\u001b[38;5;241m=\u001b[39mval_x,\n\u001b[1;32m   1778\u001b[0m         y\u001b[38;5;241m=\u001b[39mval_y,\n\u001b[0;32m   (...)\u001b[0m\n\u001b[1;32m   1789\u001b[0m         pss_evaluation_shards\u001b[38;5;241m=\u001b[39m\u001b[38;5;28mself\u001b[39m\u001b[38;5;241m.\u001b[39m_pss_evaluation_shards,\n\u001b[1;32m   1790\u001b[0m     )\n\u001b[0;32m-> 1791\u001b[0m val_logs \u001b[38;5;241m=\u001b[39m \u001b[38;5;28;43mself\u001b[39;49m\u001b[38;5;241;43m.\u001b[39;49m\u001b[43mevaluate\u001b[49m\u001b[43m(\u001b[49m\n\u001b[1;32m   1792\u001b[0m \u001b[43m    \u001b[49m\u001b[43mx\u001b[49m\u001b[38;5;241;43m=\u001b[39;49m\u001b[43mval_x\u001b[49m\u001b[43m,\u001b[49m\n\u001b[1;32m   1793\u001b[0m \u001b[43m    \u001b[49m\u001b[43my\u001b[49m\u001b[38;5;241;43m=\u001b[39;49m\u001b[43mval_y\u001b[49m\u001b[43m,\u001b[49m\n\u001b[1;32m   1794\u001b[0m \u001b[43m    \u001b[49m\u001b[43msample_weight\u001b[49m\u001b[38;5;241;43m=\u001b[39;49m\u001b[43mval_sample_weight\u001b[49m\u001b[43m,\u001b[49m\n\u001b[1;32m   1795\u001b[0m \u001b[43m    \u001b[49m\u001b[43mbatch_size\u001b[49m\u001b[38;5;241;43m=\u001b[39;49m\u001b[43mvalidation_batch_size\u001b[49m\u001b[43m \u001b[49m\u001b[38;5;129;43;01mor\u001b[39;49;00m\u001b[43m \u001b[49m\u001b[43mbatch_size\u001b[49m\u001b[43m,\u001b[49m\n\u001b[1;32m   1796\u001b[0m \u001b[43m    \u001b[49m\u001b[43msteps\u001b[49m\u001b[38;5;241;43m=\u001b[39;49m\u001b[43mvalidation_steps\u001b[49m\u001b[43m,\u001b[49m\n\u001b[1;32m   1797\u001b[0m \u001b[43m    \u001b[49m\u001b[43mcallbacks\u001b[49m\u001b[38;5;241;43m=\u001b[39;49m\u001b[43mcallbacks\u001b[49m\u001b[43m,\u001b[49m\n\u001b[1;32m   1798\u001b[0m \u001b[43m    \u001b[49m\u001b[43mmax_queue_size\u001b[49m\u001b[38;5;241;43m=\u001b[39;49m\u001b[43mmax_queue_size\u001b[49m\u001b[43m,\u001b[49m\n\u001b[1;32m   1799\u001b[0m \u001b[43m    \u001b[49m\u001b[43mworkers\u001b[49m\u001b[38;5;241;43m=\u001b[39;49m\u001b[43mworkers\u001b[49m\u001b[43m,\u001b[49m\n\u001b[1;32m   1800\u001b[0m \u001b[43m    \u001b[49m\u001b[43muse_multiprocessing\u001b[49m\u001b[38;5;241;43m=\u001b[39;49m\u001b[43muse_multiprocessing\u001b[49m\u001b[43m,\u001b[49m\n\u001b[1;32m   1801\u001b[0m \u001b[43m    \u001b[49m\u001b[43mreturn_dict\u001b[49m\u001b[38;5;241;43m=\u001b[39;49m\u001b[38;5;28;43;01mTrue\u001b[39;49;00m\u001b[43m,\u001b[49m\n\u001b[1;32m   1802\u001b[0m \u001b[43m    \u001b[49m\u001b[43m_use_cached_eval_dataset\u001b[49m\u001b[38;5;241;43m=\u001b[39;49m\u001b[38;5;28;43;01mTrue\u001b[39;49;00m\u001b[43m,\u001b[49m\n\u001b[1;32m   1803\u001b[0m \u001b[43m\u001b[49m\u001b[43m)\u001b[49m\n\u001b[1;32m   1804\u001b[0m val_logs \u001b[38;5;241m=\u001b[39m {\n\u001b[1;32m   1805\u001b[0m     \u001b[38;5;124m\"\u001b[39m\u001b[38;5;124mval_\u001b[39m\u001b[38;5;124m\"\u001b[39m \u001b[38;5;241m+\u001b[39m name: val \u001b[38;5;28;01mfor\u001b[39;00m name, val \u001b[38;5;129;01min\u001b[39;00m val_logs\u001b[38;5;241m.\u001b[39mitems()\n\u001b[1;32m   1806\u001b[0m }\n\u001b[1;32m   1807\u001b[0m epoch_logs\u001b[38;5;241m.\u001b[39mupdate(val_logs)\n",
      "File \u001b[0;32m/opt/homebrew/lib/python3.11/site-packages/keras/src/utils/traceback_utils.py:65\u001b[0m, in \u001b[0;36mfilter_traceback.<locals>.error_handler\u001b[0;34m(*args, **kwargs)\u001b[0m\n\u001b[1;32m     63\u001b[0m filtered_tb \u001b[38;5;241m=\u001b[39m \u001b[38;5;28;01mNone\u001b[39;00m\n\u001b[1;32m     64\u001b[0m \u001b[38;5;28;01mtry\u001b[39;00m:\n\u001b[0;32m---> 65\u001b[0m     \u001b[38;5;28;01mreturn\u001b[39;00m \u001b[43mfn\u001b[49m\u001b[43m(\u001b[49m\u001b[38;5;241;43m*\u001b[39;49m\u001b[43margs\u001b[49m\u001b[43m,\u001b[49m\u001b[43m \u001b[49m\u001b[38;5;241;43m*\u001b[39;49m\u001b[38;5;241;43m*\u001b[39;49m\u001b[43mkwargs\u001b[49m\u001b[43m)\u001b[49m\n\u001b[1;32m     66\u001b[0m \u001b[38;5;28;01mexcept\u001b[39;00m \u001b[38;5;167;01mException\u001b[39;00m \u001b[38;5;28;01mas\u001b[39;00m e:\n\u001b[1;32m     67\u001b[0m     filtered_tb \u001b[38;5;241m=\u001b[39m _process_traceback_frames(e\u001b[38;5;241m.\u001b[39m__traceback__)\n",
      "File \u001b[0;32m/opt/homebrew/lib/python3.11/site-packages/keras/src/engine/training.py:2189\u001b[0m, in \u001b[0;36mModel.evaluate\u001b[0;34m(self, x, y, batch_size, verbose, sample_weight, steps, callbacks, max_queue_size, workers, use_multiprocessing, return_dict, **kwargs)\u001b[0m\n\u001b[1;32m   2187\u001b[0m \u001b[38;5;28mself\u001b[39m\u001b[38;5;241m.\u001b[39m_test_counter\u001b[38;5;241m.\u001b[39massign(\u001b[38;5;241m0\u001b[39m)\n\u001b[1;32m   2188\u001b[0m callbacks\u001b[38;5;241m.\u001b[39mon_test_begin()\n\u001b[0;32m-> 2189\u001b[0m \u001b[38;5;28;01mfor\u001b[39;00m (\n\u001b[1;32m   2190\u001b[0m     _,\n\u001b[1;32m   2191\u001b[0m     dataset_or_iterator,\n\u001b[1;32m   2192\u001b[0m ) \u001b[38;5;129;01min\u001b[39;00m data_handler\u001b[38;5;241m.\u001b[39menumerate_epochs():  \u001b[38;5;66;03m# Single epoch.\u001b[39;00m\n\u001b[1;32m   2193\u001b[0m     \u001b[38;5;28mself\u001b[39m\u001b[38;5;241m.\u001b[39mreset_metrics()\n\u001b[1;32m   2194\u001b[0m     \u001b[38;5;28;01mwith\u001b[39;00m data_handler\u001b[38;5;241m.\u001b[39mcatch_stop_iteration():\n",
      "File \u001b[0;32m/opt/homebrew/lib/python3.11/site-packages/keras/src/engine/data_adapter.py:1331\u001b[0m, in \u001b[0;36mDataHandler.enumerate_epochs\u001b[0;34m(self)\u001b[0m\n\u001b[1;32m   1329\u001b[0m \u001b[38;5;250m\u001b[39m\u001b[38;5;124;03m\"\"\"Yields `(epoch, tf.data.Iterator)`.\"\"\"\u001b[39;00m\n\u001b[1;32m   1330\u001b[0m \u001b[38;5;28;01mwith\u001b[39;00m \u001b[38;5;28mself\u001b[39m\u001b[38;5;241m.\u001b[39m_truncate_execution_to_epoch():\n\u001b[0;32m-> 1331\u001b[0m     data_iterator \u001b[38;5;241m=\u001b[39m \u001b[38;5;28miter\u001b[39m(\u001b[38;5;28mself\u001b[39m\u001b[38;5;241m.\u001b[39m_dataset)\n\u001b[1;32m   1332\u001b[0m     \u001b[38;5;28;01mfor\u001b[39;00m epoch \u001b[38;5;129;01min\u001b[39;00m \u001b[38;5;28mrange\u001b[39m(\u001b[38;5;28mself\u001b[39m\u001b[38;5;241m.\u001b[39m_initial_epoch, \u001b[38;5;28mself\u001b[39m\u001b[38;5;241m.\u001b[39m_epochs):\n\u001b[1;32m   1333\u001b[0m         \u001b[38;5;28;01mif\u001b[39;00m \u001b[38;5;28mself\u001b[39m\u001b[38;5;241m.\u001b[39m_insufficient_data:  \u001b[38;5;66;03m# Set by `catch_stop_iteration`.\u001b[39;00m\n",
      "File \u001b[0;32m/opt/homebrew/lib/python3.11/site-packages/tensorflow/python/data/ops/dataset_ops.py:506\u001b[0m, in \u001b[0;36mDatasetV2.__iter__\u001b[0;34m(self)\u001b[0m\n\u001b[1;32m    504\u001b[0m \u001b[38;5;28;01mif\u001b[39;00m context\u001b[38;5;241m.\u001b[39mexecuting_eagerly() \u001b[38;5;129;01mor\u001b[39;00m ops\u001b[38;5;241m.\u001b[39minside_function():\n\u001b[1;32m    505\u001b[0m   \u001b[38;5;28;01mwith\u001b[39;00m ops\u001b[38;5;241m.\u001b[39mcolocate_with(\u001b[38;5;28mself\u001b[39m\u001b[38;5;241m.\u001b[39m_variant_tensor):\n\u001b[0;32m--> 506\u001b[0m     \u001b[38;5;28;01mreturn\u001b[39;00m \u001b[43miterator_ops\u001b[49m\u001b[38;5;241;43m.\u001b[39;49m\u001b[43mOwnedIterator\u001b[49m\u001b[43m(\u001b[49m\u001b[38;5;28;43mself\u001b[39;49m\u001b[43m)\u001b[49m\n\u001b[1;32m    507\u001b[0m \u001b[38;5;28;01melse\u001b[39;00m:\n\u001b[1;32m    508\u001b[0m   \u001b[38;5;28;01mraise\u001b[39;00m \u001b[38;5;167;01mRuntimeError\u001b[39;00m(\u001b[38;5;124m\"\u001b[39m\u001b[38;5;124m`tf.data.Dataset` only supports Python-style \u001b[39m\u001b[38;5;124m\"\u001b[39m\n\u001b[1;32m    509\u001b[0m                      \u001b[38;5;124m\"\u001b[39m\u001b[38;5;124miteration in eager mode or within tf.function.\u001b[39m\u001b[38;5;124m\"\u001b[39m)\n",
      "File \u001b[0;32m/opt/homebrew/lib/python3.11/site-packages/tensorflow/python/data/ops/iterator_ops.py:710\u001b[0m, in \u001b[0;36mOwnedIterator.__init__\u001b[0;34m(self, dataset, components, element_spec)\u001b[0m\n\u001b[1;32m    706\u001b[0m   \u001b[38;5;28;01mif\u001b[39;00m (components \u001b[38;5;129;01mis\u001b[39;00m \u001b[38;5;129;01mnot\u001b[39;00m \u001b[38;5;28;01mNone\u001b[39;00m \u001b[38;5;129;01mor\u001b[39;00m element_spec \u001b[38;5;129;01mis\u001b[39;00m \u001b[38;5;129;01mnot\u001b[39;00m \u001b[38;5;28;01mNone\u001b[39;00m):\n\u001b[1;32m    707\u001b[0m     \u001b[38;5;28;01mraise\u001b[39;00m \u001b[38;5;167;01mValueError\u001b[39;00m(\n\u001b[1;32m    708\u001b[0m         \u001b[38;5;124m\"\u001b[39m\u001b[38;5;124mWhen `dataset` is provided, `element_spec` and `components` must \u001b[39m\u001b[38;5;124m\"\u001b[39m\n\u001b[1;32m    709\u001b[0m         \u001b[38;5;124m\"\u001b[39m\u001b[38;5;124mnot be specified.\u001b[39m\u001b[38;5;124m\"\u001b[39m)\n\u001b[0;32m--> 710\u001b[0m   \u001b[38;5;28;43mself\u001b[39;49m\u001b[38;5;241;43m.\u001b[39;49m\u001b[43m_create_iterator\u001b[49m\u001b[43m(\u001b[49m\u001b[43mdataset\u001b[49m\u001b[43m)\u001b[49m\n\u001b[1;32m    712\u001b[0m \u001b[38;5;28mself\u001b[39m\u001b[38;5;241m.\u001b[39m_get_next_call_count \u001b[38;5;241m=\u001b[39m \u001b[38;5;241m0\u001b[39m\n",
      "File \u001b[0;32m/opt/homebrew/lib/python3.11/site-packages/tensorflow/python/data/ops/iterator_ops.py:749\u001b[0m, in \u001b[0;36mOwnedIterator._create_iterator\u001b[0;34m(self, dataset)\u001b[0m\n\u001b[1;32m    746\u001b[0m   \u001b[38;5;28;01massert\u001b[39;00m \u001b[38;5;28mlen\u001b[39m(fulltype\u001b[38;5;241m.\u001b[39margs[\u001b[38;5;241m0\u001b[39m]\u001b[38;5;241m.\u001b[39margs[\u001b[38;5;241m0\u001b[39m]\u001b[38;5;241m.\u001b[39margs) \u001b[38;5;241m==\u001b[39m \u001b[38;5;28mlen\u001b[39m(\n\u001b[1;32m    747\u001b[0m       \u001b[38;5;28mself\u001b[39m\u001b[38;5;241m.\u001b[39m_flat_output_types)\n\u001b[1;32m    748\u001b[0m   \u001b[38;5;28mself\u001b[39m\u001b[38;5;241m.\u001b[39m_iterator_resource\u001b[38;5;241m.\u001b[39mop\u001b[38;5;241m.\u001b[39mexperimental_set_type(fulltype)\n\u001b[0;32m--> 749\u001b[0m \u001b[43mgen_dataset_ops\u001b[49m\u001b[38;5;241;43m.\u001b[39;49m\u001b[43mmake_iterator\u001b[49m\u001b[43m(\u001b[49m\u001b[43mds_variant\u001b[49m\u001b[43m,\u001b[49m\u001b[43m \u001b[49m\u001b[38;5;28;43mself\u001b[39;49m\u001b[38;5;241;43m.\u001b[39;49m\u001b[43m_iterator_resource\u001b[49m\u001b[43m)\u001b[49m\n",
      "File \u001b[0;32m/opt/homebrew/lib/python3.11/site-packages/tensorflow/python/ops/gen_dataset_ops.py:3420\u001b[0m, in \u001b[0;36mmake_iterator\u001b[0;34m(dataset, iterator, name)\u001b[0m\n\u001b[1;32m   3418\u001b[0m \u001b[38;5;28;01mif\u001b[39;00m tld\u001b[38;5;241m.\u001b[39mis_eager:\n\u001b[1;32m   3419\u001b[0m   \u001b[38;5;28;01mtry\u001b[39;00m:\n\u001b[0;32m-> 3420\u001b[0m     _result \u001b[38;5;241m=\u001b[39m \u001b[43mpywrap_tfe\u001b[49m\u001b[38;5;241;43m.\u001b[39;49m\u001b[43mTFE_Py_FastPathExecute\u001b[49m\u001b[43m(\u001b[49m\n\u001b[1;32m   3421\u001b[0m \u001b[43m      \u001b[49m\u001b[43m_ctx\u001b[49m\u001b[43m,\u001b[49m\u001b[43m \u001b[49m\u001b[38;5;124;43m\"\u001b[39;49m\u001b[38;5;124;43mMakeIterator\u001b[39;49m\u001b[38;5;124;43m\"\u001b[39;49m\u001b[43m,\u001b[49m\u001b[43m \u001b[49m\u001b[43mname\u001b[49m\u001b[43m,\u001b[49m\u001b[43m \u001b[49m\u001b[43mdataset\u001b[49m\u001b[43m,\u001b[49m\u001b[43m \u001b[49m\u001b[43miterator\u001b[49m\u001b[43m)\u001b[49m\n\u001b[1;32m   3422\u001b[0m     \u001b[38;5;28;01mreturn\u001b[39;00m _result\n\u001b[1;32m   3423\u001b[0m   \u001b[38;5;28;01mexcept\u001b[39;00m _core\u001b[38;5;241m.\u001b[39m_NotOkStatusException \u001b[38;5;28;01mas\u001b[39;00m e:\n",
      "\u001b[0;31mKeyboardInterrupt\u001b[0m: "
     ]
    }
   ],
   "source": [
    "tuner.search(\n",
    "    X_train, \n",
    "    Y_train, \n",
    "    epochs=500,\n",
    "    batch_size=32,\n",
    "    validation_data=(X_val, Y_val), \n",
    "    callbacks=[early_stopping]\n",
    ")\n",
    "\n",
    "# Retrieve the hyperparameters and performance\n",
    "results = []\n",
    "for trial in tuner.oracle.get_best_trials(num_trials=100):\n",
    "    result = {\n",
    "        'units': trial.hyperparameters.get(f'units'),\n",
    "        'num_layers': trial.hyperparameters.get('num_layers'),\n",
    "        'learning_rate': trial.hyperparameters.get('learning_rate'),\n",
    "        'mse': trial.score\n",
    "    }\n",
    "    results.append(result)\n",
    "\n",
    "# Create DataFrame\n",
    "hyperparameters_df = pd.DataFrame(results)\n"
   ]
  },
  {
   "cell_type": "code",
   "execution_count": null,
   "metadata": {},
   "outputs": [
    {
     "name": "stdout",
     "output_type": "stream",
     "text": [
      "WARNING:tensorflow:Detecting that an object or model or tf.train.Checkpoint is being deleted with unrestored values. See the following logs for the specific values in question. To silence these warnings, use `status.expect_partial()`. See https://www.tensorflow.org/api_docs/python/tf/train/Checkpoint#restorefor details about the status object returned by the restore function.\n"
     ]
    },
    {
     "name": "stderr",
     "output_type": "stream",
     "text": [
      "WARNING:tensorflow:Detecting that an object or model or tf.train.Checkpoint is being deleted with unrestored values. See the following logs for the specific values in question. To silence these warnings, use `status.expect_partial()`. See https://www.tensorflow.org/api_docs/python/tf/train/Checkpoint#restorefor details about the status object returned by the restore function.\n"
     ]
    },
    {
     "name": "stdout",
     "output_type": "stream",
     "text": [
      "WARNING:tensorflow:Value in checkpoint could not be found in the restored object: (root).optimizer.iter\n"
     ]
    },
    {
     "name": "stderr",
     "output_type": "stream",
     "text": [
      "WARNING:tensorflow:Value in checkpoint could not be found in the restored object: (root).optimizer.iter\n"
     ]
    },
    {
     "name": "stdout",
     "output_type": "stream",
     "text": [
      "WARNING:tensorflow:Value in checkpoint could not be found in the restored object: (root).optimizer.beta_1\n"
     ]
    },
    {
     "name": "stderr",
     "output_type": "stream",
     "text": [
      "WARNING:tensorflow:Value in checkpoint could not be found in the restored object: (root).optimizer.beta_1\n"
     ]
    },
    {
     "name": "stdout",
     "output_type": "stream",
     "text": [
      "WARNING:tensorflow:Value in checkpoint could not be found in the restored object: (root).optimizer.beta_2\n"
     ]
    },
    {
     "name": "stderr",
     "output_type": "stream",
     "text": [
      "WARNING:tensorflow:Value in checkpoint could not be found in the restored object: (root).optimizer.beta_2\n"
     ]
    },
    {
     "name": "stdout",
     "output_type": "stream",
     "text": [
      "WARNING:tensorflow:Value in checkpoint could not be found in the restored object: (root).optimizer.decay\n"
     ]
    },
    {
     "name": "stderr",
     "output_type": "stream",
     "text": [
      "WARNING:tensorflow:Value in checkpoint could not be found in the restored object: (root).optimizer.decay\n"
     ]
    },
    {
     "name": "stdout",
     "output_type": "stream",
     "text": [
      "WARNING:tensorflow:Value in checkpoint could not be found in the restored object: (root).optimizer.learning_rate\n"
     ]
    },
    {
     "name": "stderr",
     "output_type": "stream",
     "text": [
      "WARNING:tensorflow:Value in checkpoint could not be found in the restored object: (root).optimizer.learning_rate\n"
     ]
    },
    {
     "name": "stdout",
     "output_type": "stream",
     "text": [
      "WARNING:tensorflow:Detecting that an object or model or tf.train.Checkpoint is being deleted with unrestored values. See the following logs for the specific values in question. To silence these warnings, use `status.expect_partial()`. See https://www.tensorflow.org/api_docs/python/tf/train/Checkpoint#restorefor details about the status object returned by the restore function.\n"
     ]
    },
    {
     "name": "stderr",
     "output_type": "stream",
     "text": [
      "WARNING:tensorflow:Detecting that an object or model or tf.train.Checkpoint is being deleted with unrestored values. See the following logs for the specific values in question. To silence these warnings, use `status.expect_partial()`. See https://www.tensorflow.org/api_docs/python/tf/train/Checkpoint#restorefor details about the status object returned by the restore function.\n"
     ]
    },
    {
     "name": "stdout",
     "output_type": "stream",
     "text": [
      "WARNING:tensorflow:Value in checkpoint could not be found in the restored object: (root).optimizer.iter\n"
     ]
    },
    {
     "name": "stderr",
     "output_type": "stream",
     "text": [
      "WARNING:tensorflow:Value in checkpoint could not be found in the restored object: (root).optimizer.iter\n"
     ]
    },
    {
     "name": "stdout",
     "output_type": "stream",
     "text": [
      "WARNING:tensorflow:Value in checkpoint could not be found in the restored object: (root).optimizer.beta_1\n"
     ]
    },
    {
     "name": "stderr",
     "output_type": "stream",
     "text": [
      "WARNING:tensorflow:Value in checkpoint could not be found in the restored object: (root).optimizer.beta_1\n"
     ]
    },
    {
     "name": "stdout",
     "output_type": "stream",
     "text": [
      "WARNING:tensorflow:Value in checkpoint could not be found in the restored object: (root).optimizer.beta_2\n"
     ]
    },
    {
     "name": "stderr",
     "output_type": "stream",
     "text": [
      "WARNING:tensorflow:Value in checkpoint could not be found in the restored object: (root).optimizer.beta_2\n"
     ]
    },
    {
     "name": "stdout",
     "output_type": "stream",
     "text": [
      "WARNING:tensorflow:Value in checkpoint could not be found in the restored object: (root).optimizer.decay\n"
     ]
    },
    {
     "name": "stderr",
     "output_type": "stream",
     "text": [
      "WARNING:tensorflow:Value in checkpoint could not be found in the restored object: (root).optimizer.decay\n"
     ]
    },
    {
     "name": "stdout",
     "output_type": "stream",
     "text": [
      "WARNING:tensorflow:Value in checkpoint could not be found in the restored object: (root).optimizer.learning_rate\n"
     ]
    },
    {
     "name": "stderr",
     "output_type": "stream",
     "text": [
      "WARNING:tensorflow:Value in checkpoint could not be found in the restored object: (root).optimizer.learning_rate\n"
     ]
    },
    {
     "name": "stdout",
     "output_type": "stream",
     "text": [
      "WARNING:tensorflow:Detecting that an object or model or tf.train.Checkpoint is being deleted with unrestored values. See the following logs for the specific values in question. To silence these warnings, use `status.expect_partial()`. See https://www.tensorflow.org/api_docs/python/tf/train/Checkpoint#restorefor details about the status object returned by the restore function.\n"
     ]
    },
    {
     "name": "stderr",
     "output_type": "stream",
     "text": [
      "WARNING:tensorflow:Detecting that an object or model or tf.train.Checkpoint is being deleted with unrestored values. See the following logs for the specific values in question. To silence these warnings, use `status.expect_partial()`. See https://www.tensorflow.org/api_docs/python/tf/train/Checkpoint#restorefor details about the status object returned by the restore function.\n"
     ]
    },
    {
     "name": "stdout",
     "output_type": "stream",
     "text": [
      "WARNING:tensorflow:Value in checkpoint could not be found in the restored object: (root).optimizer.iter\n"
     ]
    },
    {
     "name": "stderr",
     "output_type": "stream",
     "text": [
      "WARNING:tensorflow:Value in checkpoint could not be found in the restored object: (root).optimizer.iter\n"
     ]
    },
    {
     "name": "stdout",
     "output_type": "stream",
     "text": [
      "WARNING:tensorflow:Value in checkpoint could not be found in the restored object: (root).optimizer.beta_1\n"
     ]
    },
    {
     "name": "stderr",
     "output_type": "stream",
     "text": [
      "WARNING:tensorflow:Value in checkpoint could not be found in the restored object: (root).optimizer.beta_1\n"
     ]
    },
    {
     "name": "stdout",
     "output_type": "stream",
     "text": [
      "WARNING:tensorflow:Value in checkpoint could not be found in the restored object: (root).optimizer.beta_2\n"
     ]
    },
    {
     "name": "stderr",
     "output_type": "stream",
     "text": [
      "WARNING:tensorflow:Value in checkpoint could not be found in the restored object: (root).optimizer.beta_2\n"
     ]
    },
    {
     "name": "stdout",
     "output_type": "stream",
     "text": [
      "WARNING:tensorflow:Value in checkpoint could not be found in the restored object: (root).optimizer.decay\n"
     ]
    },
    {
     "name": "stderr",
     "output_type": "stream",
     "text": [
      "WARNING:tensorflow:Value in checkpoint could not be found in the restored object: (root).optimizer.decay\n"
     ]
    },
    {
     "name": "stdout",
     "output_type": "stream",
     "text": [
      "WARNING:tensorflow:Value in checkpoint could not be found in the restored object: (root).optimizer.learning_rate\n"
     ]
    },
    {
     "name": "stderr",
     "output_type": "stream",
     "text": [
      "WARNING:tensorflow:Value in checkpoint could not be found in the restored object: (root).optimizer.learning_rate\n"
     ]
    },
    {
     "name": "stdout",
     "output_type": "stream",
     "text": [
      "WARNING:tensorflow:Detecting that an object or model or tf.train.Checkpoint is being deleted with unrestored values. See the following logs for the specific values in question. To silence these warnings, use `status.expect_partial()`. See https://www.tensorflow.org/api_docs/python/tf/train/Checkpoint#restorefor details about the status object returned by the restore function.\n"
     ]
    },
    {
     "name": "stderr",
     "output_type": "stream",
     "text": [
      "WARNING:tensorflow:Detecting that an object or model or tf.train.Checkpoint is being deleted with unrestored values. See the following logs for the specific values in question. To silence these warnings, use `status.expect_partial()`. See https://www.tensorflow.org/api_docs/python/tf/train/Checkpoint#restorefor details about the status object returned by the restore function.\n"
     ]
    },
    {
     "name": "stdout",
     "output_type": "stream",
     "text": [
      "WARNING:tensorflow:Value in checkpoint could not be found in the restored object: (root).optimizer.iter\n"
     ]
    },
    {
     "name": "stderr",
     "output_type": "stream",
     "text": [
      "WARNING:tensorflow:Value in checkpoint could not be found in the restored object: (root).optimizer.iter\n"
     ]
    },
    {
     "name": "stdout",
     "output_type": "stream",
     "text": [
      "WARNING:tensorflow:Value in checkpoint could not be found in the restored object: (root).optimizer.beta_1\n"
     ]
    },
    {
     "name": "stderr",
     "output_type": "stream",
     "text": [
      "WARNING:tensorflow:Value in checkpoint could not be found in the restored object: (root).optimizer.beta_1\n"
     ]
    },
    {
     "name": "stdout",
     "output_type": "stream",
     "text": [
      "WARNING:tensorflow:Value in checkpoint could not be found in the restored object: (root).optimizer.beta_2\n"
     ]
    },
    {
     "name": "stderr",
     "output_type": "stream",
     "text": [
      "WARNING:tensorflow:Value in checkpoint could not be found in the restored object: (root).optimizer.beta_2\n"
     ]
    },
    {
     "name": "stdout",
     "output_type": "stream",
     "text": [
      "WARNING:tensorflow:Value in checkpoint could not be found in the restored object: (root).optimizer.decay\n"
     ]
    },
    {
     "name": "stderr",
     "output_type": "stream",
     "text": [
      "WARNING:tensorflow:Value in checkpoint could not be found in the restored object: (root).optimizer.decay\n"
     ]
    },
    {
     "name": "stdout",
     "output_type": "stream",
     "text": [
      "WARNING:tensorflow:Value in checkpoint could not be found in the restored object: (root).optimizer.learning_rate\n"
     ]
    },
    {
     "name": "stderr",
     "output_type": "stream",
     "text": [
      "WARNING:tensorflow:Value in checkpoint could not be found in the restored object: (root).optimizer.learning_rate\n"
     ]
    },
    {
     "name": "stdout",
     "output_type": "stream",
     "text": [
      "WARNING:tensorflow:Detecting that an object or model or tf.train.Checkpoint is being deleted with unrestored values. See the following logs for the specific values in question. To silence these warnings, use `status.expect_partial()`. See https://www.tensorflow.org/api_docs/python/tf/train/Checkpoint#restorefor details about the status object returned by the restore function.\n"
     ]
    },
    {
     "name": "stderr",
     "output_type": "stream",
     "text": [
      "WARNING:tensorflow:Detecting that an object or model or tf.train.Checkpoint is being deleted with unrestored values. See the following logs for the specific values in question. To silence these warnings, use `status.expect_partial()`. See https://www.tensorflow.org/api_docs/python/tf/train/Checkpoint#restorefor details about the status object returned by the restore function.\n"
     ]
    },
    {
     "name": "stdout",
     "output_type": "stream",
     "text": [
      "WARNING:tensorflow:Value in checkpoint could not be found in the restored object: (root).optimizer.iter\n"
     ]
    },
    {
     "name": "stderr",
     "output_type": "stream",
     "text": [
      "WARNING:tensorflow:Value in checkpoint could not be found in the restored object: (root).optimizer.iter\n"
     ]
    },
    {
     "name": "stdout",
     "output_type": "stream",
     "text": [
      "WARNING:tensorflow:Value in checkpoint could not be found in the restored object: (root).optimizer.beta_1\n"
     ]
    },
    {
     "name": "stderr",
     "output_type": "stream",
     "text": [
      "WARNING:tensorflow:Value in checkpoint could not be found in the restored object: (root).optimizer.beta_1\n"
     ]
    },
    {
     "name": "stdout",
     "output_type": "stream",
     "text": [
      "WARNING:tensorflow:Value in checkpoint could not be found in the restored object: (root).optimizer.beta_2\n"
     ]
    },
    {
     "name": "stderr",
     "output_type": "stream",
     "text": [
      "WARNING:tensorflow:Value in checkpoint could not be found in the restored object: (root).optimizer.beta_2\n"
     ]
    },
    {
     "name": "stdout",
     "output_type": "stream",
     "text": [
      "WARNING:tensorflow:Value in checkpoint could not be found in the restored object: (root).optimizer.decay\n"
     ]
    },
    {
     "name": "stderr",
     "output_type": "stream",
     "text": [
      "WARNING:tensorflow:Value in checkpoint could not be found in the restored object: (root).optimizer.decay\n"
     ]
    },
    {
     "name": "stdout",
     "output_type": "stream",
     "text": [
      "WARNING:tensorflow:Value in checkpoint could not be found in the restored object: (root).optimizer.learning_rate\n"
     ]
    },
    {
     "name": "stderr",
     "output_type": "stream",
     "text": [
      "WARNING:tensorflow:Value in checkpoint could not be found in the restored object: (root).optimizer.learning_rate\n"
     ]
    },
    {
     "name": "stdout",
     "output_type": "stream",
     "text": [
      "Model: \"sequential\"\n",
      "_________________________________________________________________\n",
      " Layer (type)                Output Shape              Param #   \n",
      "=================================================================\n",
      " dense (Dense)               (None, 64)                512       \n",
      "                                                                 \n",
      " dense_1 (Dense)             (None, 64)                4160      \n",
      "                                                                 \n",
      " dense_2 (Dense)             (None, 64)                4160      \n",
      "                                                                 \n",
      " dense_3 (Dense)             (None, 64)                4160      \n",
      "                                                                 \n",
      " dense_4 (Dense)             (None, 64)                4160      \n",
      "                                                                 \n",
      " dense_5 (Dense)             (None, 1)                 65        \n",
      "                                                                 \n",
      "=================================================================\n",
      "Total params: 17217 (67.25 KB)\n",
      "Trainable params: 17217 (67.25 KB)\n",
      "Non-trainable params: 0 (0.00 Byte)\n",
      "_________________________________________________________________\n"
     ]
    },
    {
     "ename": "KeyboardInterrupt",
     "evalue": "",
     "output_type": "error",
     "traceback": [
      "\u001b[0;31m---------------------------------------------------------------------------\u001b[0m",
      "\u001b[0;31mKeyboardInterrupt\u001b[0m                         Traceback (most recent call last)",
      "Cell \u001b[0;32mIn[29], line 3\u001b[0m\n\u001b[1;32m      1\u001b[0m models \u001b[38;5;241m=\u001b[39m tuner\u001b[38;5;241m.\u001b[39mget_best_models(num_models\u001b[38;5;241m=\u001b[39m\u001b[38;5;241m5\u001b[39m)\n\u001b[1;32m      2\u001b[0m best_model \u001b[38;5;241m=\u001b[39m models[\u001b[38;5;241m0\u001b[39m]\n\u001b[0;32m----> 3\u001b[0m \u001b[43mbest_model\u001b[49m\u001b[38;5;241m.\u001b[39msummary()\n",
      "Cell \u001b[0;32mIn[29], line 3\u001b[0m\n\u001b[1;32m      1\u001b[0m models \u001b[38;5;241m=\u001b[39m tuner\u001b[38;5;241m.\u001b[39mget_best_models(num_models\u001b[38;5;241m=\u001b[39m\u001b[38;5;241m5\u001b[39m)\n\u001b[1;32m      2\u001b[0m best_model \u001b[38;5;241m=\u001b[39m models[\u001b[38;5;241m0\u001b[39m]\n\u001b[0;32m----> 3\u001b[0m \u001b[43mbest_model\u001b[49m\u001b[38;5;241m.\u001b[39msummary()\n",
      "File \u001b[0;32m_pydevd_bundle/pydevd_cython.pyx:1457\u001b[0m, in \u001b[0;36m_pydevd_bundle.pydevd_cython.SafeCallWrapper.__call__\u001b[0;34m()\u001b[0m\n",
      "File \u001b[0;32m_pydevd_bundle/pydevd_cython.pyx:701\u001b[0m, in \u001b[0;36m_pydevd_bundle.pydevd_cython.PyDBFrame.trace_dispatch\u001b[0;34m()\u001b[0m\n",
      "File \u001b[0;32m_pydevd_bundle/pydevd_cython.pyx:1152\u001b[0m, in \u001b[0;36m_pydevd_bundle.pydevd_cython.PyDBFrame.trace_dispatch\u001b[0;34m()\u001b[0m\n",
      "File \u001b[0;32m_pydevd_bundle/pydevd_cython.pyx:1135\u001b[0m, in \u001b[0;36m_pydevd_bundle.pydevd_cython.PyDBFrame.trace_dispatch\u001b[0;34m()\u001b[0m\n",
      "File \u001b[0;32m_pydevd_bundle/pydevd_cython.pyx:312\u001b[0m, in \u001b[0;36m_pydevd_bundle.pydevd_cython.PyDBFrame.do_wait_suspend\u001b[0;34m()\u001b[0m\n",
      "File \u001b[0;32m~/Library/Python/3.11/lib/python/site-packages/debugpy/_vendored/pydevd/pydevd.py:2070\u001b[0m, in \u001b[0;36mPyDB.do_wait_suspend\u001b[0;34m(self, thread, frame, event, arg, exception_type)\u001b[0m\n\u001b[1;32m   2067\u001b[0m             from_this_thread\u001b[38;5;241m.\u001b[39mappend(frame_custom_thread_id)\n\u001b[1;32m   2069\u001b[0m     \u001b[38;5;28;01mwith\u001b[39;00m \u001b[38;5;28mself\u001b[39m\u001b[38;5;241m.\u001b[39m_threads_suspended_single_notification\u001b[38;5;241m.\u001b[39mnotify_thread_suspended(thread_id, thread, stop_reason):\n\u001b[0;32m-> 2070\u001b[0m         keep_suspended \u001b[38;5;241m=\u001b[39m \u001b[38;5;28;43mself\u001b[39;49m\u001b[38;5;241;43m.\u001b[39;49m\u001b[43m_do_wait_suspend\u001b[49m\u001b[43m(\u001b[49m\u001b[43mthread\u001b[49m\u001b[43m,\u001b[49m\u001b[43m \u001b[49m\u001b[43mframe\u001b[49m\u001b[43m,\u001b[49m\u001b[43m \u001b[49m\u001b[43mevent\u001b[49m\u001b[43m,\u001b[49m\u001b[43m \u001b[49m\u001b[43marg\u001b[49m\u001b[43m,\u001b[49m\u001b[43m \u001b[49m\u001b[43msuspend_type\u001b[49m\u001b[43m,\u001b[49m\u001b[43m \u001b[49m\u001b[43mfrom_this_thread\u001b[49m\u001b[43m,\u001b[49m\u001b[43m \u001b[49m\u001b[43mframes_tracker\u001b[49m\u001b[43m)\u001b[49m\n\u001b[1;32m   2072\u001b[0m frames_list \u001b[38;5;241m=\u001b[39m \u001b[38;5;28;01mNone\u001b[39;00m\n\u001b[1;32m   2074\u001b[0m \u001b[38;5;28;01mif\u001b[39;00m keep_suspended:\n\u001b[1;32m   2075\u001b[0m     \u001b[38;5;66;03m# This means that we should pause again after a set next statement.\u001b[39;00m\n",
      "File \u001b[0;32m~/Library/Python/3.11/lib/python/site-packages/debugpy/_vendored/pydevd/pydevd.py:2106\u001b[0m, in \u001b[0;36mPyDB._do_wait_suspend\u001b[0;34m(self, thread, frame, event, arg, suspend_type, from_this_thread, frames_tracker)\u001b[0m\n\u001b[1;32m   2103\u001b[0m         \u001b[38;5;28mself\u001b[39m\u001b[38;5;241m.\u001b[39m_call_input_hook()\n\u001b[1;32m   2105\u001b[0m     \u001b[38;5;28mself\u001b[39m\u001b[38;5;241m.\u001b[39mprocess_internal_commands()\n\u001b[0;32m-> 2106\u001b[0m     time\u001b[38;5;241m.\u001b[39msleep(\u001b[38;5;241m0.01\u001b[39m)\n\u001b[1;32m   2108\u001b[0m \u001b[38;5;28mself\u001b[39m\u001b[38;5;241m.\u001b[39mcancel_async_evaluation(get_current_thread_id(thread), \u001b[38;5;28mstr\u001b[39m(\u001b[38;5;28mid\u001b[39m(frame)))\n\u001b[1;32m   2110\u001b[0m \u001b[38;5;66;03m# process any stepping instructions\u001b[39;00m\n",
      "\u001b[0;31mKeyboardInterrupt\u001b[0m: "
     ]
    }
   ],
   "source": [
    "models = tuner.get_best_models(num_models=5)\n",
    "best_model = models[0]\n",
    "best_model.summary()"
   ]
  },
  {
   "cell_type": "code",
   "execution_count": null,
   "metadata": {},
   "outputs": [
    {
     "name": "stdout",
     "output_type": "stream",
     "text": [
      "Results summary\n",
      "Results in keras_tuner3/test_3\n",
      "Showing 10 best trials\n",
      "Objective(name=\"mse\", direction=\"min\")\n",
      "\n",
      "Trial 090 summary\n",
      "Hyperparameters:\n",
      "units: 64\n",
      "num_layers: 5\n",
      "learning_rate: 0.001\n",
      "Score: 0.01339293085038662\n",
      "\n",
      "Trial 034 summary\n",
      "Hyperparameters:\n",
      "units: 128\n",
      "num_layers: 7\n",
      "learning_rate: 0.001\n",
      "Score: 0.016007056459784508\n",
      "\n",
      "Trial 041 summary\n",
      "Hyperparameters:\n",
      "units: 96\n",
      "num_layers: 10\n",
      "learning_rate: 0.01\n",
      "Score: 0.016132449731230736\n",
      "\n",
      "Trial 024 summary\n",
      "Hyperparameters:\n",
      "units: 128\n",
      "num_layers: 8\n",
      "learning_rate: 0.001\n",
      "Score: 0.016957532614469528\n",
      "\n",
      "Trial 088 summary\n",
      "Hyperparameters:\n",
      "units: 128\n",
      "num_layers: 10\n",
      "learning_rate: 0.01\n",
      "Score: 0.018046870827674866\n",
      "\n",
      "Trial 050 summary\n",
      "Hyperparameters:\n",
      "units: 80\n",
      "num_layers: 6\n",
      "learning_rate: 0.01\n",
      "Score: 0.018546711653470993\n",
      "\n",
      "Trial 000 summary\n",
      "Hyperparameters:\n",
      "units: 48\n",
      "num_layers: 8\n",
      "learning_rate: 0.01\n",
      "Score: 0.018668944016098976\n",
      "\n",
      "Trial 074 summary\n",
      "Hyperparameters:\n",
      "units: 128\n",
      "num_layers: 5\n",
      "learning_rate: 0.001\n",
      "Score: 0.01875992864370346\n",
      "\n",
      "Trial 025 summary\n",
      "Hyperparameters:\n",
      "units: 128\n",
      "num_layers: 4\n",
      "learning_rate: 0.01\n",
      "Score: 0.02201966382563114\n",
      "\n",
      "Trial 017 summary\n",
      "Hyperparameters:\n",
      "units: 80\n",
      "num_layers: 5\n",
      "learning_rate: 0.001\n",
      "Score: 0.022571105509996414\n"
     ]
    }
   ],
   "source": [
    "tuner.results_summary()"
   ]
  },
  {
   "cell_type": "code",
   "execution_count": null,
   "metadata": {},
   "outputs": [
    {
     "name": "stderr",
     "output_type": "stream",
     "text": [
      "WARNING:absl:At this time, the v2.11+ optimizer `tf.keras.optimizers.Adam` runs slowly on M1/M2 Macs, please use the legacy Keras optimizer instead, located at `tf.keras.optimizers.legacy.Adam`.\n",
      "WARNING:absl:There is a known slowdown when using v2.11+ Keras optimizers on M1/M2 Macs. Falling back to the legacy Keras optimizer, i.e., `tf.keras.optimizers.legacy.Adam`.\n"
     ]
    },
    {
     "name": "stdout",
     "output_type": "stream",
     "text": [
      "Epoch 1/1000\n",
      "5/5 [==============================] - 0s 20ms/step - loss: 916.8267 - val_loss: 847.1415\n",
      "Epoch 2/1000\n",
      "5/5 [==============================] - 0s 4ms/step - loss: 810.0555 - val_loss: 649.8571\n",
      "Epoch 3/1000\n",
      "5/5 [==============================] - 0s 4ms/step - loss: 493.8049 - val_loss: 170.8901\n",
      "Epoch 4/1000\n",
      "5/5 [==============================] - 0s 4ms/step - loss: 92.1005 - val_loss: 162.7736\n",
      "Epoch 5/1000\n",
      "5/5 [==============================] - 0s 4ms/step - loss: 104.9221 - val_loss: 10.7857\n",
      "Epoch 6/1000\n",
      "5/5 [==============================] - 0s 4ms/step - loss: 49.2857 - val_loss: 78.2435\n",
      "Epoch 7/1000\n",
      "5/5 [==============================] - 0s 4ms/step - loss: 61.9031 - val_loss: 18.6374\n",
      "Epoch 8/1000\n",
      "5/5 [==============================] - 0s 4ms/step - loss: 18.9018 - val_loss: 21.7504\n",
      "Epoch 9/1000\n",
      "5/5 [==============================] - 0s 5ms/step - loss: 27.7419 - val_loss: 5.1642\n",
      "Epoch 10/1000\n",
      "5/5 [==============================] - 0s 6ms/step - loss: 12.8328 - val_loss: 13.0446\n",
      "Epoch 11/1000\n",
      "5/5 [==============================] - 0s 7ms/step - loss: 13.8688 - val_loss: 4.7432\n",
      "Epoch 12/1000\n",
      "5/5 [==============================] - 0s 6ms/step - loss: 10.9529 - val_loss: 5.1979\n",
      "Epoch 13/1000\n",
      "5/5 [==============================] - 0s 11ms/step - loss: 8.6896 - val_loss: 4.3224\n",
      "Epoch 14/1000\n",
      "5/5 [==============================] - 0s 8ms/step - loss: 7.3415 - val_loss: 3.4142\n",
      "Epoch 15/1000\n",
      "5/5 [==============================] - 0s 12ms/step - loss: 5.3054 - val_loss: 2.7997\n",
      "Epoch 16/1000\n",
      "5/5 [==============================] - 0s 6ms/step - loss: 5.3612 - val_loss: 2.3919\n",
      "Epoch 17/1000\n",
      "5/5 [==============================] - 0s 6ms/step - loss: 4.0410 - val_loss: 2.2644\n",
      "Epoch 18/1000\n",
      "5/5 [==============================] - 0s 5ms/step - loss: 3.4630 - val_loss: 1.9158\n",
      "Epoch 19/1000\n",
      "5/5 [==============================] - 0s 5ms/step - loss: 3.0081 - val_loss: 1.8301\n",
      "Epoch 20/1000\n",
      "5/5 [==============================] - 0s 4ms/step - loss: 2.4660 - val_loss: 1.9782\n",
      "Epoch 21/1000\n",
      "5/5 [==============================] - 0s 10ms/step - loss: 2.0741 - val_loss: 1.7823\n",
      "Epoch 22/1000\n",
      "5/5 [==============================] - 0s 12ms/step - loss: 1.9099 - val_loss: 1.8470\n",
      "Epoch 23/1000\n",
      "5/5 [==============================] - 0s 7ms/step - loss: 1.8038 - val_loss: 1.8788\n",
      "Epoch 24/1000\n",
      "5/5 [==============================] - 0s 9ms/step - loss: 1.4876 - val_loss: 1.7782\n",
      "Epoch 25/1000\n",
      "5/5 [==============================] - 0s 7ms/step - loss: 1.3173 - val_loss: 1.9031\n",
      "Epoch 26/1000\n",
      "5/5 [==============================] - 0s 6ms/step - loss: 1.2137 - val_loss: 1.6458\n",
      "Epoch 27/1000\n",
      "5/5 [==============================] - 0s 4ms/step - loss: 1.1265 - val_loss: 1.6679\n",
      "Epoch 28/1000\n",
      "5/5 [==============================] - 0s 4ms/step - loss: 1.0035 - val_loss: 1.4162\n",
      "Epoch 29/1000\n",
      "5/5 [==============================] - 0s 4ms/step - loss: 0.9123 - val_loss: 1.3185\n",
      "Epoch 30/1000\n",
      "5/5 [==============================] - 0s 4ms/step - loss: 0.8050 - val_loss: 1.1889\n",
      "Epoch 31/1000\n",
      "5/5 [==============================] - 0s 4ms/step - loss: 0.7183 - val_loss: 1.1051\n",
      "Epoch 32/1000\n",
      "5/5 [==============================] - 0s 4ms/step - loss: 0.6746 - val_loss: 0.9998\n",
      "Epoch 33/1000\n",
      "5/5 [==============================] - 0s 4ms/step - loss: 0.6545 - val_loss: 0.9957\n",
      "Epoch 34/1000\n",
      "5/5 [==============================] - 0s 5ms/step - loss: 0.6202 - val_loss: 0.8994\n",
      "Epoch 35/1000\n",
      "5/5 [==============================] - 0s 4ms/step - loss: 0.5283 - val_loss: 0.8679\n",
      "Epoch 36/1000\n",
      "5/5 [==============================] - 0s 4ms/step - loss: 0.5371 - val_loss: 0.8171\n",
      "Epoch 37/1000\n",
      "5/5 [==============================] - 0s 4ms/step - loss: 0.5154 - val_loss: 0.7952\n",
      "Epoch 38/1000\n",
      "5/5 [==============================] - 0s 4ms/step - loss: 0.4818 - val_loss: 0.6805\n",
      "Epoch 39/1000\n",
      "5/5 [==============================] - 0s 4ms/step - loss: 0.4444 - val_loss: 0.6759\n",
      "Epoch 40/1000\n",
      "5/5 [==============================] - 0s 4ms/step - loss: 0.4125 - val_loss: 0.6318\n",
      "Epoch 41/1000\n",
      "5/5 [==============================] - 0s 5ms/step - loss: 0.3909 - val_loss: 0.5904\n",
      "Epoch 42/1000\n",
      "5/5 [==============================] - 0s 4ms/step - loss: 0.3766 - val_loss: 0.5735\n",
      "Epoch 43/1000\n",
      "5/5 [==============================] - 0s 4ms/step - loss: 0.3593 - val_loss: 0.5551\n",
      "Epoch 44/1000\n",
      "5/5 [==============================] - 0s 4ms/step - loss: 0.3291 - val_loss: 0.5326\n",
      "Epoch 45/1000\n",
      "5/5 [==============================] - 0s 4ms/step - loss: 0.3251 - val_loss: 0.4965\n",
      "Epoch 46/1000\n",
      "5/5 [==============================] - 0s 4ms/step - loss: 0.2999 - val_loss: 0.4975\n",
      "Epoch 47/1000\n",
      "5/5 [==============================] - 0s 4ms/step - loss: 0.3045 - val_loss: 0.4682\n",
      "Epoch 48/1000\n",
      "5/5 [==============================] - 0s 4ms/step - loss: 0.2926 - val_loss: 0.4755\n",
      "Epoch 49/1000\n",
      "5/5 [==============================] - 0s 4ms/step - loss: 0.2688 - val_loss: 0.4167\n",
      "Epoch 50/1000\n",
      "5/5 [==============================] - 0s 4ms/step - loss: 0.3135 - val_loss: 0.3986\n",
      "Epoch 51/1000\n",
      "5/5 [==============================] - 0s 4ms/step - loss: 0.3045 - val_loss: 0.4195\n",
      "Epoch 52/1000\n",
      "5/5 [==============================] - 0s 5ms/step - loss: 0.2865 - val_loss: 0.3711\n",
      "Epoch 53/1000\n",
      "5/5 [==============================] - 0s 6ms/step - loss: 0.2358 - val_loss: 0.3843\n",
      "Epoch 54/1000\n",
      "5/5 [==============================] - 0s 4ms/step - loss: 0.2202 - val_loss: 0.3502\n",
      "Epoch 55/1000\n",
      "5/5 [==============================] - 0s 4ms/step - loss: 0.2556 - val_loss: 0.3404\n",
      "Epoch 56/1000\n",
      "5/5 [==============================] - 0s 4ms/step - loss: 0.2189 - val_loss: 0.3182\n",
      "Epoch 57/1000\n",
      "5/5 [==============================] - 0s 4ms/step - loss: 0.2039 - val_loss: 0.3132\n",
      "Epoch 58/1000\n",
      "5/5 [==============================] - 0s 4ms/step - loss: 0.1976 - val_loss: 0.2900\n",
      "Epoch 59/1000\n",
      "5/5 [==============================] - 0s 4ms/step - loss: 0.1960 - val_loss: 0.2953\n",
      "Epoch 60/1000\n",
      "5/5 [==============================] - 0s 4ms/step - loss: 0.1996 - val_loss: 0.2863\n",
      "Epoch 61/1000\n",
      "5/5 [==============================] - 0s 4ms/step - loss: 0.2185 - val_loss: 0.3921\n",
      "Epoch 62/1000\n",
      "5/5 [==============================] - 0s 4ms/step - loss: 0.2434 - val_loss: 0.2567\n",
      "Epoch 63/1000\n",
      "5/5 [==============================] - 0s 4ms/step - loss: 0.1982 - val_loss: 0.2502\n",
      "Epoch 64/1000\n",
      "5/5 [==============================] - 0s 4ms/step - loss: 0.1858 - val_loss: 0.2415\n",
      "Epoch 65/1000\n",
      "5/5 [==============================] - 0s 4ms/step - loss: 0.1614 - val_loss: 0.2309\n",
      "Epoch 66/1000\n",
      "5/5 [==============================] - 0s 4ms/step - loss: 0.1534 - val_loss: 0.2344\n",
      "Epoch 67/1000\n",
      "5/5 [==============================] - 0s 4ms/step - loss: 0.1517 - val_loss: 0.2416\n",
      "Epoch 68/1000\n",
      "5/5 [==============================] - 0s 3ms/step - loss: 0.1449 - val_loss: 0.2384\n",
      "Epoch 69/1000\n",
      "5/5 [==============================] - 0s 3ms/step - loss: 0.1501 - val_loss: 0.2445\n",
      "Epoch 70/1000\n",
      "5/5 [==============================] - 0s 4ms/step - loss: 0.1390 - val_loss: 0.2594\n",
      "Epoch 71/1000\n",
      "5/5 [==============================] - 0s 4ms/step - loss: 0.1589 - val_loss: 0.2284\n",
      "Epoch 72/1000\n",
      "5/5 [==============================] - 0s 4ms/step - loss: 0.1554 - val_loss: 0.2405\n",
      "Epoch 73/1000\n",
      "5/5 [==============================] - 0s 4ms/step - loss: 0.1457 - val_loss: 0.3065\n",
      "Epoch 74/1000\n",
      "5/5 [==============================] - 0s 3ms/step - loss: 0.1865 - val_loss: 0.3165\n",
      "Epoch 75/1000\n",
      "5/5 [==============================] - 0s 4ms/step - loss: 0.2048 - val_loss: 0.2243\n",
      "Epoch 76/1000\n",
      "5/5 [==============================] - 0s 3ms/step - loss: 0.1438 - val_loss: 0.2280\n",
      "Epoch 77/1000\n",
      "5/5 [==============================] - 0s 4ms/step - loss: 0.1337 - val_loss: 0.2216\n",
      "Epoch 78/1000\n",
      "5/5 [==============================] - 0s 4ms/step - loss: 0.1221 - val_loss: 0.1968\n",
      "Epoch 79/1000\n",
      "5/5 [==============================] - 0s 4ms/step - loss: 0.1102 - val_loss: 0.1878\n",
      "Epoch 80/1000\n",
      "5/5 [==============================] - 0s 4ms/step - loss: 0.0986 - val_loss: 0.2049\n",
      "Epoch 81/1000\n",
      "5/5 [==============================] - 0s 3ms/step - loss: 0.0983 - val_loss: 0.2081\n",
      "Epoch 82/1000\n",
      "5/5 [==============================] - 0s 4ms/step - loss: 0.1081 - val_loss: 0.1977\n",
      "Epoch 83/1000\n",
      "5/5 [==============================] - 0s 4ms/step - loss: 0.0961 - val_loss: 0.1780\n",
      "Epoch 84/1000\n",
      "5/5 [==============================] - 0s 3ms/step - loss: 0.0969 - val_loss: 0.1993\n",
      "Epoch 85/1000\n",
      "5/5 [==============================] - 0s 3ms/step - loss: 0.0947 - val_loss: 0.1963\n",
      "Epoch 86/1000\n",
      "5/5 [==============================] - 0s 3ms/step - loss: 0.1017 - val_loss: 0.2012\n",
      "Epoch 87/1000\n",
      "5/5 [==============================] - 0s 3ms/step - loss: 0.0862 - val_loss: 0.2054\n",
      "Epoch 88/1000\n",
      "5/5 [==============================] - 0s 4ms/step - loss: 0.0882 - val_loss: 0.2436\n",
      "Epoch 89/1000\n",
      "5/5 [==============================] - 0s 3ms/step - loss: 0.1741 - val_loss: 0.1878\n",
      "Epoch 90/1000\n",
      "5/5 [==============================] - 0s 4ms/step - loss: 0.1322 - val_loss: 0.2590\n",
      "Epoch 91/1000\n",
      "5/5 [==============================] - 0s 3ms/step - loss: 0.1365 - val_loss: 0.2901\n",
      "Epoch 92/1000\n",
      "5/5 [==============================] - 0s 4ms/step - loss: 0.1311 - val_loss: 0.2661\n",
      "Epoch 93/1000\n",
      "5/5 [==============================] - 0s 3ms/step - loss: 0.1078 - val_loss: 0.2230\n",
      "Epoch 94/1000\n",
      "5/5 [==============================] - 0s 3ms/step - loss: 0.1173 - val_loss: 0.1861\n",
      "Epoch 95/1000\n",
      "5/5 [==============================] - 0s 3ms/step - loss: 0.0966 - val_loss: 0.2359\n",
      "Epoch 96/1000\n",
      "5/5 [==============================] - 0s 3ms/step - loss: 0.1252 - val_loss: 0.3089\n",
      "Epoch 97/1000\n",
      "5/5 [==============================] - 0s 3ms/step - loss: 0.1280 - val_loss: 0.2248\n",
      "Epoch 98/1000\n",
      "5/5 [==============================] - 0s 4ms/step - loss: 0.1066 - val_loss: 0.1743\n",
      "Epoch 99/1000\n",
      "5/5 [==============================] - 0s 3ms/step - loss: 0.0904 - val_loss: 0.1869\n",
      "Epoch 100/1000\n",
      "5/5 [==============================] - 0s 3ms/step - loss: 0.0841 - val_loss: 0.2268\n",
      "Epoch 101/1000\n",
      "5/5 [==============================] - 0s 3ms/step - loss: 0.0871 - val_loss: 0.2344\n",
      "Epoch 102/1000\n",
      "5/5 [==============================] - 0s 3ms/step - loss: 0.0860 - val_loss: 0.1895\n",
      "Epoch 103/1000\n",
      "5/5 [==============================] - 0s 4ms/step - loss: 0.0771 - val_loss: 0.1539\n",
      "Epoch 104/1000\n",
      "5/5 [==============================] - 0s 3ms/step - loss: 0.0747 - val_loss: 0.1646\n",
      "Epoch 105/1000\n",
      "5/5 [==============================] - 0s 3ms/step - loss: 0.0737 - val_loss: 0.1798\n",
      "Epoch 106/1000\n",
      "5/5 [==============================] - 0s 3ms/step - loss: 0.0735 - val_loss: 0.1607\n",
      "Epoch 107/1000\n",
      "5/5 [==============================] - 0s 3ms/step - loss: 0.0677 - val_loss: 0.1717\n",
      "Epoch 108/1000\n",
      "5/5 [==============================] - 0s 4ms/step - loss: 0.0800 - val_loss: 0.1541\n",
      "Epoch 109/1000\n",
      "5/5 [==============================] - 0s 4ms/step - loss: 0.0708 - val_loss: 0.1531\n",
      "Epoch 110/1000\n",
      "5/5 [==============================] - 0s 4ms/step - loss: 0.0686 - val_loss: 0.1728\n",
      "Epoch 111/1000\n",
      "5/5 [==============================] - 0s 4ms/step - loss: 0.0825 - val_loss: 0.1587\n",
      "Epoch 112/1000\n",
      "5/5 [==============================] - 0s 3ms/step - loss: 0.0661 - val_loss: 0.1717\n",
      "Epoch 113/1000\n",
      "5/5 [==============================] - 0s 3ms/step - loss: 0.0665 - val_loss: 0.1674\n",
      "Epoch 114/1000\n",
      "5/5 [==============================] - 0s 3ms/step - loss: 0.0682 - val_loss: 0.1586\n",
      "Epoch 115/1000\n",
      "5/5 [==============================] - 0s 4ms/step - loss: 0.0657 - val_loss: 0.1515\n",
      "Epoch 116/1000\n",
      "5/5 [==============================] - 0s 3ms/step - loss: 0.0686 - val_loss: 0.1602\n",
      "Epoch 117/1000\n",
      "5/5 [==============================] - 0s 3ms/step - loss: 0.0660 - val_loss: 0.1709\n",
      "Epoch 118/1000\n",
      "5/5 [==============================] - 0s 4ms/step - loss: 0.0743 - val_loss: 0.1741\n",
      "Epoch 119/1000\n",
      "5/5 [==============================] - 0s 4ms/step - loss: 0.0741 - val_loss: 0.1588\n",
      "Epoch 120/1000\n",
      "5/5 [==============================] - 0s 4ms/step - loss: 0.0707 - val_loss: 0.1461\n",
      "Epoch 121/1000\n",
      "5/5 [==============================] - 0s 4ms/step - loss: 0.0652 - val_loss: 0.1425\n",
      "Epoch 122/1000\n",
      "5/5 [==============================] - 0s 5ms/step - loss: 0.0675 - val_loss: 0.1761\n",
      "Epoch 123/1000\n",
      "5/5 [==============================] - 0s 4ms/step - loss: 0.0836 - val_loss: 0.1658\n",
      "Epoch 124/1000\n",
      "5/5 [==============================] - 0s 4ms/step - loss: 0.1011 - val_loss: 0.2166\n",
      "Epoch 125/1000\n",
      "5/5 [==============================] - 0s 4ms/step - loss: 0.0835 - val_loss: 0.1823\n",
      "Epoch 126/1000\n",
      "5/5 [==============================] - 0s 4ms/step - loss: 0.0676 - val_loss: 0.1783\n",
      "Epoch 127/1000\n",
      "5/5 [==============================] - 0s 4ms/step - loss: 0.0707 - val_loss: 0.1425\n",
      "Epoch 128/1000\n",
      "5/5 [==============================] - 0s 4ms/step - loss: 0.0652 - val_loss: 0.1383\n",
      "Epoch 129/1000\n",
      "5/5 [==============================] - 0s 4ms/step - loss: 0.0620 - val_loss: 0.1574\n",
      "Epoch 130/1000\n",
      "5/5 [==============================] - 0s 4ms/step - loss: 0.0627 - val_loss: 0.1358\n",
      "Epoch 131/1000\n",
      "5/5 [==============================] - 0s 4ms/step - loss: 0.0564 - val_loss: 0.1370\n",
      "Epoch 132/1000\n",
      "5/5 [==============================] - 0s 4ms/step - loss: 0.0598 - val_loss: 0.1470\n",
      "Epoch 133/1000\n",
      "5/5 [==============================] - 0s 4ms/step - loss: 0.0639 - val_loss: 0.1433\n",
      "Epoch 134/1000\n",
      "5/5 [==============================] - 0s 3ms/step - loss: 0.0667 - val_loss: 0.1577\n",
      "Epoch 135/1000\n",
      "5/5 [==============================] - 0s 4ms/step - loss: 0.0644 - val_loss: 0.1456\n",
      "Epoch 136/1000\n",
      "5/5 [==============================] - 0s 3ms/step - loss: 0.0633 - val_loss: 0.1473\n",
      "Epoch 137/1000\n",
      "5/5 [==============================] - 0s 4ms/step - loss: 0.0723 - val_loss: 0.1516\n",
      "Epoch 138/1000\n",
      "5/5 [==============================] - 0s 4ms/step - loss: 0.0716 - val_loss: 0.1322\n",
      "Epoch 139/1000\n",
      "5/5 [==============================] - 0s 4ms/step - loss: 0.0617 - val_loss: 0.1416\n",
      "Epoch 140/1000\n",
      "5/5 [==============================] - 0s 4ms/step - loss: 0.0606 - val_loss: 0.1395\n",
      "Epoch 141/1000\n",
      "5/5 [==============================] - 0s 3ms/step - loss: 0.0612 - val_loss: 0.1544\n",
      "Epoch 142/1000\n",
      "5/5 [==============================] - 0s 3ms/step - loss: 0.0675 - val_loss: 0.1451\n",
      "Epoch 143/1000\n",
      "5/5 [==============================] - 0s 3ms/step - loss: 0.0559 - val_loss: 0.1453\n",
      "Epoch 144/1000\n",
      "5/5 [==============================] - 0s 4ms/step - loss: 0.0672 - val_loss: 0.1293\n",
      "Epoch 145/1000\n",
      "5/5 [==============================] - 0s 4ms/step - loss: 0.0692 - val_loss: 0.1484\n",
      "Epoch 146/1000\n",
      "5/5 [==============================] - 0s 4ms/step - loss: 0.0678 - val_loss: 0.1601\n",
      "Epoch 147/1000\n",
      "5/5 [==============================] - 0s 3ms/step - loss: 0.0689 - val_loss: 0.1307\n",
      "Epoch 148/1000\n",
      "5/5 [==============================] - 0s 4ms/step - loss: 0.0520 - val_loss: 0.1256\n",
      "Epoch 149/1000\n",
      "5/5 [==============================] - 0s 3ms/step - loss: 0.0505 - val_loss: 0.1264\n",
      "Epoch 150/1000\n",
      "5/5 [==============================] - 0s 3ms/step - loss: 0.0526 - val_loss: 0.1405\n",
      "Epoch 151/1000\n",
      "5/5 [==============================] - 0s 4ms/step - loss: 0.0517 - val_loss: 0.1313\n",
      "Epoch 152/1000\n",
      "5/5 [==============================] - 0s 3ms/step - loss: 0.0507 - val_loss: 0.1342\n",
      "Epoch 153/1000\n",
      "5/5 [==============================] - 0s 3ms/step - loss: 0.0490 - val_loss: 0.1274\n",
      "Epoch 154/1000\n",
      "5/5 [==============================] - 0s 3ms/step - loss: 0.0510 - val_loss: 0.1406\n",
      "Epoch 155/1000\n",
      "5/5 [==============================] - 0s 3ms/step - loss: 0.0564 - val_loss: 0.1362\n",
      "Epoch 156/1000\n",
      "5/5 [==============================] - 0s 3ms/step - loss: 0.0636 - val_loss: 0.1831\n",
      "Epoch 157/1000\n",
      "5/5 [==============================] - 0s 3ms/step - loss: 0.0812 - val_loss: 0.1369\n",
      "Epoch 158/1000\n",
      "5/5 [==============================] - 0s 4ms/step - loss: 0.0794 - val_loss: 0.2136\n",
      "Epoch 159/1000\n",
      "5/5 [==============================] - 0s 4ms/step - loss: 0.0635 - val_loss: 0.1400\n",
      "Epoch 160/1000\n",
      "5/5 [==============================] - 0s 12ms/step - loss: 0.0542 - val_loss: 0.1311\n",
      "Epoch 161/1000\n",
      "5/5 [==============================] - 0s 14ms/step - loss: 0.0528 - val_loss: 0.1348\n",
      "Epoch 162/1000\n",
      "5/5 [==============================] - 0s 9ms/step - loss: 0.0509 - val_loss: 0.1306\n",
      "Epoch 163/1000\n",
      "5/5 [==============================] - 0s 7ms/step - loss: 0.0429 - val_loss: 0.1263\n",
      "Epoch 164/1000\n",
      "5/5 [==============================] - 0s 4ms/step - loss: 0.0445 - val_loss: 0.1222\n",
      "Epoch 165/1000\n",
      "5/5 [==============================] - 0s 4ms/step - loss: 0.0481 - val_loss: 0.1240\n",
      "Epoch 166/1000\n",
      "5/5 [==============================] - 0s 4ms/step - loss: 0.0430 - val_loss: 0.1230\n",
      "Epoch 167/1000\n",
      "5/5 [==============================] - 0s 4ms/step - loss: 0.0455 - val_loss: 0.1262\n",
      "Epoch 168/1000\n",
      "5/5 [==============================] - 0s 4ms/step - loss: 0.0429 - val_loss: 0.1305\n",
      "Epoch 169/1000\n",
      "5/5 [==============================] - 0s 4ms/step - loss: 0.0416 - val_loss: 0.1472\n",
      "Epoch 170/1000\n",
      "5/5 [==============================] - 0s 4ms/step - loss: 0.0543 - val_loss: 0.1310\n",
      "Epoch 171/1000\n",
      "5/5 [==============================] - 0s 4ms/step - loss: 0.0516 - val_loss: 0.1462\n",
      "Epoch 172/1000\n",
      "5/5 [==============================] - 0s 4ms/step - loss: 0.0749 - val_loss: 0.1399\n",
      "Epoch 173/1000\n",
      "5/5 [==============================] - 0s 4ms/step - loss: 0.0607 - val_loss: 0.1372\n",
      "Epoch 174/1000\n",
      "5/5 [==============================] - 0s 4ms/step - loss: 0.0621 - val_loss: 0.1191\n",
      "Epoch 175/1000\n",
      "5/5 [==============================] - 0s 4ms/step - loss: 0.0505 - val_loss: 0.1320\n",
      "Epoch 176/1000\n",
      "5/5 [==============================] - 0s 4ms/step - loss: 0.0415 - val_loss: 0.1144\n",
      "Epoch 177/1000\n",
      "5/5 [==============================] - 0s 4ms/step - loss: 0.0392 - val_loss: 0.1106\n",
      "Epoch 178/1000\n",
      "5/5 [==============================] - 0s 4ms/step - loss: 0.0434 - val_loss: 0.1222\n",
      "Epoch 179/1000\n",
      "5/5 [==============================] - 0s 4ms/step - loss: 0.0440 - val_loss: 0.1129\n",
      "Epoch 180/1000\n",
      "5/5 [==============================] - 0s 7ms/step - loss: 0.0420 - val_loss: 0.1112\n",
      "Epoch 181/1000\n",
      "5/5 [==============================] - 0s 9ms/step - loss: 0.0408 - val_loss: 0.1045\n",
      "Epoch 182/1000\n",
      "5/5 [==============================] - 0s 5ms/step - loss: 0.0440 - val_loss: 0.1034\n",
      "Epoch 183/1000\n",
      "5/5 [==============================] - 0s 4ms/step - loss: 0.0460 - val_loss: 0.1343\n",
      "Epoch 184/1000\n",
      "5/5 [==============================] - 0s 5ms/step - loss: 0.0423 - val_loss: 0.1245\n",
      "Epoch 185/1000\n",
      "5/5 [==============================] - 0s 5ms/step - loss: 0.0403 - val_loss: 0.1278\n",
      "Epoch 186/1000\n",
      "5/5 [==============================] - 0s 4ms/step - loss: 0.0380 - val_loss: 0.1084\n",
      "Epoch 187/1000\n",
      "5/5 [==============================] - 0s 7ms/step - loss: 0.0389 - val_loss: 0.1069\n",
      "Epoch 188/1000\n",
      "5/5 [==============================] - 0s 5ms/step - loss: 0.0369 - val_loss: 0.1124\n",
      "Epoch 189/1000\n",
      "5/5 [==============================] - 0s 4ms/step - loss: 0.0377 - val_loss: 0.1079\n",
      "Epoch 190/1000\n",
      "5/5 [==============================] - 0s 4ms/step - loss: 0.0439 - val_loss: 0.1084\n",
      "Epoch 191/1000\n",
      "5/5 [==============================] - 0s 4ms/step - loss: 0.0343 - val_loss: 0.1170\n",
      "Epoch 192/1000\n",
      "5/5 [==============================] - 0s 4ms/step - loss: 0.0401 - val_loss: 0.1097\n",
      "Epoch 193/1000\n",
      "5/5 [==============================] - 0s 10ms/step - loss: 0.0354 - val_loss: 0.1158\n",
      "Epoch 194/1000\n",
      "5/5 [==============================] - 0s 11ms/step - loss: 0.0385 - val_loss: 0.1096\n",
      "Epoch 195/1000\n",
      "5/5 [==============================] - 0s 12ms/step - loss: 0.0501 - val_loss: 0.1197\n",
      "Epoch 196/1000\n",
      "5/5 [==============================] - 0s 8ms/step - loss: 0.0404 - val_loss: 0.1247\n",
      "Epoch 197/1000\n",
      "5/5 [==============================] - 0s 5ms/step - loss: 0.0368 - val_loss: 0.1098\n",
      "Epoch 198/1000\n",
      "5/5 [==============================] - 0s 6ms/step - loss: 0.0428 - val_loss: 0.1140\n",
      "Epoch 199/1000\n",
      "5/5 [==============================] - 0s 5ms/step - loss: 0.0532 - val_loss: 0.1108\n",
      "Epoch 200/1000\n",
      "5/5 [==============================] - 0s 7ms/step - loss: 0.0406 - val_loss: 0.1245\n",
      "Epoch 201/1000\n",
      "5/5 [==============================] - 0s 4ms/step - loss: 0.0363 - val_loss: 0.1089\n",
      "Epoch 202/1000\n",
      "5/5 [==============================] - 0s 5ms/step - loss: 0.0345 - val_loss: 0.1036\n"
     ]
    }
   ],
   "source": [
    "#   1. Create a model\n",
    "model = tf.keras.Sequential([\n",
    "    tf.keras.layers.Dense(32, activation='relu', input_shape=(7,)),\n",
    "    tf.keras.layers.Dense(32, activation='relu'),\n",
    "    tf.keras.layers.Dense(32, activation='relu'),\n",
    "    tf.keras.layers.Dense(32, activation='relu'),\n",
    "    tf.keras.layers.Dense(32, activation='relu'),\n",
    "    tf.keras.layers.Dense(1)\n",
    "])\n",
    "\n",
    "#   2. Compile the model\n",
    "# Compile the model\n",
    "optimizer = tf.keras.optimizers.Adam(learning_rate=0.005)\n",
    "model.compile(optimizer=optimizer, loss='mse')\n",
    "\n",
    "#   3. Implement early stopping\n",
    "early_stopping = tf.keras.callbacks.EarlyStopping(\n",
    "    monitor='val_loss',    # Metric to monitor\n",
    "    patience=20,          # Number of epochs with no improvement after which training will be stopped\n",
    "    restore_best_weights=True  # Whether to restore model weights from the epoch with the best value of the monitored quantity\n",
    ")\n",
    "\n",
    "#    4. Train the model\n",
    "history = model.fit(\n",
    "    X_train,\n",
    "    Y_train,\n",
    "    epochs=1000,\n",
    "    batch_size=16,\n",
    "    validation_data=(X_val, Y_val),\n",
    "    callbacks=[early_stopping]\n",
    ")"
   ]
  },
  {
   "cell_type": "code",
   "execution_count": null,
   "metadata": {},
   "outputs": [
    {
     "name": "stdout",
     "output_type": "stream",
     "text": [
      "1/1 [==============================] - 0s 83ms/step\n"
     ]
    }
   ],
   "source": [
    "Y_predicted_ANN = model.predict(X_val)"
   ]
  },
  {
   "cell_type": "code",
   "execution_count": null,
   "metadata": {},
   "outputs": [
    {
     "name": "stdout",
     "output_type": "stream",
     "text": [
      "MAPE, for ANN: 0.82 %\n",
      "MSE, for ANN: 0.1034\n"
     ]
    }
   ],
   "source": [
    "mape_ANN = mean_absolute_percentage_error(Y_val, Y_predicted_ANN)\n",
    "mse_ANN = mean_squared_error(Y_val, Y_predicted_ANN)\n",
    "print(\"MAPE, for ANN:\", format(round(mape_ANN, 4)*100,'.2f'), \"%\")\n",
    "print(\"MSE, for ANN:\", format(round(mse_ANN, 4),'.4f'))"
   ]
  },
  {
   "cell_type": "code",
   "execution_count": null,
   "metadata": {},
   "outputs": [
    {
     "data": {
      "text/plain": [
       "<matplotlib.legend.Legend at 0x2d3bd8790>"
      ]
     },
     "execution_count": 28,
     "metadata": {},
     "output_type": "execute_result"
    },
    {
     "data": {
      "image/png": "[encoded data removed]",
      "text/plain": [
       "<Figure size 640x480 with 1 Axes>"
      ]
     },
     "metadata": {},
     "output_type": "display_data"
    }
   ],
   "source": [
    "plt.plot([28,35], [28, 35], label='y=x', color='gray')\n",
    "\n",
    "plt.scatter(Y_val, Y_predicted_ANN, s=5, label='ANN', color='orange')\n",
    "\n",
    "plt.xlabel('True force [kN]')\n",
    "plt.ylabel('Predicted force [kN]')\n",
    "plt.legend()"
   ]
  }
 ],
 "metadata": {
  "kernelspec": {
   "display_name": "Python 3",
   "language": "python",
   "name": "python3"
  },
  "language_info": {
   "codemirror_mode": {
    "name": "ipython",
    "version": 3
   },
   "file_extension": ".py",
   "mimetype": "text/x-python",
   "name": "python",
   "nbconvert_exporter": "python",
   "pygments_lexer": "ipython3",
   "version": "3.11.2"
  }
 },
 "nbformat": 4,
 "nbformat_minor": 2
}
