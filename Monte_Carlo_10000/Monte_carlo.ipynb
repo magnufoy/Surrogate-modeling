{
 "cells": [
  {
   "cell_type": "markdown",
   "metadata": {},
   "source": [
    "<h3>Import packages"
   ]
  },
  {
   "cell_type": "code",
   "execution_count": null,
   "metadata": {},
   "outputs": [],
   "source": [
    "import numpy as np\n",
    "from smt.surrogate_models import KRG, RBF\n",
    "import pandas as pd\n",
    "from sklearn.model_selection import train_test_split\n",
    "from sklearn.metrics import mean_squared_error, mean_absolute_error, mean_absolute_percentage_error\n",
    "import matplotlib.pyplot as plt\n",
    "from sklearn.preprocessing import MinMaxScaler\n",
    "import tensorflow as tf\n",
    "from sklearn.svm import SVR\n",
    "from sklearn.model_selection import RandomizedSearchCV\n",
    "import statistics as st"
   ]
  },
  {
   "cell_type": "markdown",
   "metadata": {},
   "source": [
    "<h3>Import data"
   ]
  },
  {
   "cell_type": "code",
   "execution_count": null,
   "metadata": {},
   "outputs": [],
   "source": [
    "monte_carlo_df = pd.read_csv('monte_carlo_10000.csv').drop(columns=['sample'])\n",
    "training_df = pd.read_csv('training_data_bending.csv')"
   ]
  },
  {
   "cell_type": "markdown",
   "metadata": {},
   "source": [
    "<h3>Preprocess data"
   ]
  },
  {
   "cell_type": "code",
   "execution_count": null,
   "metadata": {},
   "outputs": [],
   "source": [
    "X = training_df[['outer_wall_thickness', 'inside_wall_side_thickness', 'inside_wall_middle_thickness', 'height', 'width', 'sigma0', 'youngs']].values\n",
    "Y = training_df[['max_force']].values\n",
    "\n",
    "X_train, X_test, Y_train, Y_test = train_test_split(X, Y, test_size=0.2, random_state=42)\n",
    "monte_carlo_array = monte_carlo_df[['outer_wall_thickness', 'inside_wall_side_thickness', 'inside_wall_middle_thickness', 'height', 'width', 'sigma0', 'youngs']].values\n",
    "scaler = MinMaxScaler()\n",
    "X_train = scaler.fit_transform(X_train)\n",
    "monte_carlo_array_scaled = scaler.transform(monte_carlo_array)\n",
    "X_test = scaler.transform(X_test)"
   ]
  },
  {
   "cell_type": "markdown",
   "metadata": {},
   "source": [
    "<h1>SVR model"
   ]
  },
  {
   "cell_type": "markdown",
   "metadata": {},
   "source": [
    "<h4>Spesify hyperparameters"
   ]
  },
  {
   "cell_type": "code",
   "execution_count": null,
   "metadata": {},
   "outputs": [],
   "source": [
    "C = 778\n",
    "epsilon = 0.0046\n",
    "gamma = 0.01"
   ]
  },
  {
   "cell_type": "markdown",
   "metadata": {},
   "source": [
    "<h4>Run model"
   ]
  },
  {
   "cell_type": "code",
   "execution_count": null,
   "metadata": {},
   "outputs": [],
   "source": [
    "SVR_model = SVR(kernel='rbf', C=C, gamma=gamma, epsilon=epsilon, verbose=False)\n",
    "SVR_model.fit(X_train, Y_train)"
   ]
  },
  {
   "cell_type": "markdown",
   "metadata": {},
   "source": [
    "<h4>Check error"
   ]
  },
  {
   "cell_type": "code",
   "execution_count": null,
   "metadata": {},
   "outputs": [],
   "source": [
    "Y_predicted_SVR = SVR_model.predict(X_test)\n",
    "mape_SVR = mean_absolute_percentage_error(Y_test, Y_predicted_SVR)\n",
    "print(\"MAPE, for SVR:\", format(round(mape_SVR, 4)*100,'.2f'), \"%\")"
   ]
  },
  {
   "cell_type": "markdown",
   "metadata": {},
   "source": [
    "<h4>Create data for Monte Carlo"
   ]
  },
  {
   "cell_type": "code",
   "execution_count": null,
   "metadata": {},
   "outputs": [],
   "source": [
    "predicted_values = SVR_model.predict(monte_carlo_array_scaled)\n",
    "monte_carlo_df['predicted_mean_force'] = predicted_values\n",
    "monte_carlo_df.head()"
   ]
  },
  {
   "cell_type": "markdown",
   "metadata": {},
   "source": [
    "<h1> KRG model"
   ]
  },
  {
   "cell_type": "markdown",
   "metadata": {},
   "source": [
    "<h4>Spesify hyperparameters"
   ]
  },
  {
   "cell_type": "code",
   "execution_count": null,
   "metadata": {},
   "outputs": [],
   "source": [
    "poly = 'linear' # Regression function\n",
    "corr = 'abs_exp' # Correlation function"
   ]
  },
  {
   "cell_type": "markdown",
   "metadata": {},
   "source": [
    "<h4>Run model"
   ]
  },
  {
   "cell_type": "code",
   "execution_count": null,
   "metadata": {},
   "outputs": [],
   "source": [
    "KRG_model = KRG(\n",
    "    corr=corr,\n",
    "    poly=poly, \n",
    "    print_global=False\n",
    ")\n",
    "KRG_model.set_training_values(X_train, Y_train)\n",
    "KRG_model.train()"
   ]
  },
  {
   "cell_type": "markdown",
   "metadata": {},
   "source": [
    "<h4>Check error"
   ]
  },
  {
   "cell_type": "code",
   "execution_count": null,
   "metadata": {},
   "outputs": [],
   "source": [
    "Y_pred = KRG_model.predict_values(X_test)\n",
    "mape = mean_absolute_percentage_error(Y_test, Y_pred)\n",
    "print(\"MAPE, for KRG:\", format(round(float(mape), 4)*100,'.2f'), \"%\")"
   ]
  },
  {
   "cell_type": "markdown",
   "metadata": {},
   "source": [
    "<h4>Create data for Monte Carlo"
   ]
  },
  {
   "cell_type": "code",
   "execution_count": null,
   "metadata": {},
   "outputs": [],
   "source": [
    "predicted_values = SVR_model.predict(monte_carlo_array_scaled)\n",
    "monte_carlo_df['predicted_mean_force'] = predicted_values\n",
    "monte_carlo_df.head()"
   ]
  },
  {
   "cell_type": "markdown",
   "metadata": {},
   "source": [
    "<h1> Monte Carlo plots"
   ]
  },
  {
   "cell_type": "markdown",
   "metadata": {},
   "source": [
    "<h3>Convergence of mean"
   ]
  },
  {
   "cell_type": "code",
   "execution_count": null,
   "metadata": {},
   "outputs": [],
   "source": [
    "# Check convergence of mean\n",
    "mean = np.zeros(len(monte_carlo_df))\n",
    "for i in range(len(monte_carlo_df)):\n",
    "    mean[i] = np.mean(monte_carlo_df['predicted_mean_force'][:i+1])\n",
    "plt.figure(dpi=300)\n",
    "plt.axhline(y=np.mean(monte_carlo_df['predicted_mean_force'][:9999]), color='r', linewidth=2)\n",
    "#plt.axhline(y=np.mean(monte_carlo_df['predicted_mean_force'][:9999])*1.001, color='r', linewidth=1)\n",
    "#plt.axhline(y=np.mean(monte_carlo_df['predicted_mean_force'][:9999])*0.999, color='r', linewidth=1)\n",
    "plt.plot(mean)\n",
    "plt.xticks(fontsize=18)\n",
    "plt.yticks(fontsize=18)\n",
    "plt.legend(fontsize=18)\n",
    "plt.xlabel('Number of samples',fontsize =18)\n",
    "plt.ylabel('Mean', fontsize =18)\n",
    "plt.ylim(28, 31.5)\n",
    "plt.xlim(-100, 10000)\n",
    "plt.grid()\n",
    "plt.show()\n",
    "\n"
   ]
  },
  {
   "cell_type": "markdown",
   "metadata": {},
   "source": [
    "<h3>Convergence of std"
   ]
  },
  {
   "cell_type": "code",
   "execution_count": null,
   "metadata": {},
   "outputs": [],
   "source": [
    "predicted_std = monte_carlo_df['predicted_mean_force']\n",
    "\n",
    "# Calculate cumulative standard deviation\n",
    "std = np.zeros(len(predicted_std))\n",
    "for i in range(len(predicted_std)):\n",
    "    std[i] = np.std(predicted_std[:i+1])\n",
    "\n",
    "plt.figure(dpi=300)\n",
    "plt.plot(std, label='Standard Deviation', linewidth=2.5)\n",
    "plt.axhline(y=np.std(monte_carlo_df['predicted_mean_force'][:9999]), color='r', linewidth=2.5)\n",
    "plt.xticks(fontsize=18)\n",
    "plt.yticks(fontsize=18)\n",
    "plt.legend(fontsize=18)\n",
    "plt.ylim(2.0, 2.8)\n",
    "plt.xlabel('Number of samples',fontsize=18)\n",
    "plt.ylabel('Standard deviation', fontsize =18)\n",
    "plt.grid()\n",
    "plt.legend()\n",
    "plt.show()"
   ]
  },
  {
   "cell_type": "markdown",
   "metadata": {},
   "source": [
    "<h3>Histogram"
   ]
  },
  {
   "cell_type": "code",
   "execution_count": null,
   "metadata": {},
   "outputs": [],
   "source": [
    "plt.figure(figsize=(10, 6), dpi=300)\n",
    "plt.hist(\n",
    "    x=monte_carlo_df['predicted_mean_force'],\n",
    "    bins=100,\n",
    "    label='Predicted from SVR',\n",
    "    alpha=0.4, \n",
    "    edgecolor='black',\n",
    "    linewidth=1,\n",
    "    density=True\n",
    "    )\n",
    "\n",
    "plt.hist(\n",
    "    x=training_df['max_force'], \n",
    "    bins=10, \n",
    "    label='Predicted from FEA', \n",
    "    alpha=0.4, \n",
    "    edgecolor='black', \n",
    "    linewidth=1,\n",
    "    density=True\n",
    "    )\n",
    "\n",
    "mean = st.mean(monte_carlo_df['predicted_mean_force'])\n",
    "st_dev = st.stdev(monte_carlo_df['predicted_mean_force'])\n",
    "\n",
    "#plt.axvline(mean, color ='k', linewidth = 2.5,linestyle = 'dashed', label = 'Mean value')\n",
    "#plt.axvline(mean+st_dev, color ='y',linestyle = 'dashed',linewidth=2.5, label ='Std.deviation')\n",
    "#plt.axvline(mean-st_dev, color ='y',linestyle = 'dashed',linewidth= 2.5)\n",
    "plt.grid()\n",
    "plt.xlabel('Max Force (kN)', fontsize=18)\n",
    "plt.ylabel('Density', fontsize=18)\n",
    "plt.xticks(fontsize=18)\n",
    "plt.yticks(fontsize=18)\n",
    "plt.legend(fontsize=18)\n",
    "plt.show()\n"
   ]
  },
  {
   "cell_type": "markdown",
   "metadata": {},
   "source": [
    "<h3>Changing amount of data"
   ]
  },
  {
   "cell_type": "code",
   "execution_count": null,
   "metadata": {},
   "outputs": [],
   "source": [
    "for i in range(10):\n",
    "    plt.hist(\n",
    "        x=monte_carlo_df['predicted_mean_force'][:1000*(i+1)],\n",
    "        bins=50,\n",
    "        label='Predicted',\n",
    "        density=True,\n",
    "    )\n",
    "    plt.grid()\n",
    "    plt.xlabel('Mean Force (kN)')\n",
    "    plt.ylabel('Density')\n",
    "    plt.show()"
   ]
  },
  {
   "cell_type": "markdown",
   "metadata": {},
   "source": [
    "<h3>Changing number of boxes"
   ]
  },
  {
   "cell_type": "code",
   "execution_count": null,
   "metadata": {},
   "outputs": [],
   "source": [
    "for i in range(10):\n",
    "    plt.hist(\n",
    "        x=monte_carlo_df['predicted_mean_force'],\n",
    "        bins=30*(i+1),\n",
    "        label='Predicted',\n",
    "        density=True\n",
    "    )\n",
    "    plt.grid()\n",
    "    plt.xlabel('Mean Force (kN)')\n",
    "    plt.ylabel('Density')\n",
    "    plt.show()"
   ]
  }
 ],
 "metadata": {
  "kernelspec": {
   "display_name": "Python 3",
   "language": "python",
   "name": "python3"
  },
  "language_info": {
   "codemirror_mode": {
    "name": "ipython",
    "version": 3
   },
   "file_extension": ".py",
   "mimetype": "text/x-python",
   "name": "python",
   "nbconvert_exporter": "python",
   "pygments_lexer": "ipython3",
   "version": "3.11.2"
  }
 },
 "nbformat": 4,
 "nbformat_minor": 2
}
